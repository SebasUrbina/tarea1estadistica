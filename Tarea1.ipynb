{
 "cells": [
  {
   "cell_type": "markdown",
   "metadata": {},
   "source": [
    "# <center>Tarea 1</center>\n",
    "Integrantes:\n",
    "- Romina Sepúlveda\n",
    "- Sebastián Urbina"
   ]
  },
  {
   "cell_type": "markdown",
   "metadata": {},
   "source": [
    "## Pregunta 1"
   ]
  },
  {
   "cell_type": "markdown",
   "metadata": {},
   "source": [
    "### Pregunta 1.1"
   ]
  },
  {
   "cell_type": "markdown",
   "metadata": {},
   "source": [
    "Para esta tarea se eligió a $\\textbf{Argentina, Bolivia, Chile y Perú}$. La razón principal fue que son países vecinos y de cultura similar."
   ]
  },
  {
   "cell_type": "markdown",
   "metadata": {},
   "source": [
    "## Argentina"
   ]
  },
  {
   "cell_type": "markdown",
   "metadata": {},
   "source": [
    "El sistema de de Salud Argentino se fragmenta en, Público, de la Seguridad Social y Privado.Alrededor de un 37,6 % de la población se atiende por el sistema público y un 51,52 % por obras sociales.\n",
    "\n",
    "- Según un informe de 2017, Argentina cuenta con 17.845 establecimientos asistenciales en total.\n",
    "- Cuenta con 19,3 respiradores artificiales por cada 100 mil habitantes.\n",
    "-  4.5 Camas cada 1000 habitantesPerú 1.5, Chile 2)\n",
    "- Según INE hasta el 1 de julio de 2020 posee una población estimada de 45.376.763 habitantes\n",
    "- Posee una densidad poblacional de 16 habitantes por $km^{2}$\n",
    "\n",
    "### Principales medidas tomadas por Argentina:\n",
    "- 06/03/2020: Segundo caso confirmado de COVID19\n",
    "- 16/03/2020: Cierre de Fronteras\n",
    "- 18/03/2020: Construcción de 12 Hospitales Modulares de Emergencia\n",
    "- 19/03/2020: Aislamiento social, preventivo y obligatorio para toda la población\n",
    "- 31/03/2020: Prórroga del aislamiento social, preventivo y obligatorio(hasta 12/04)\n",
    "- 01/04/2020: Prórroga del cierre de fronteras, de la asistencia a argentinos en el exterior y repatriación paulatina+\n",
    "- 26/04/2020: Prórroga del cierre de fronteras(hasta 10 de mayo)\n",
    "- 10/05/2020: Prórroga del aislamiento hasta el 24 de mayo inclusive y nuevas excepciones\n"
   ]
  },
  {
   "cell_type": "markdown",
   "metadata": {},
   "source": [
    "## Bolivia"
   ]
  },
  {
   "cell_type": "markdown",
   "metadata": {},
   "source": [
    "El sistema de salud Boliviano garantiza el acceso universal, equitativo, oportuno y gratuito a la atención integral en salud de la población boliviana. Es de carácter universal, gratuito, equitativo, intracultural, intercultural y participativo. El sistema esta compuesto por 3 grandes sectores y los cuales son; el sector público, el sector privado y el sector de seguridad social.\n",
    "\n",
    "- Hasta el año 2019 contaba con 3253 centros de salud(hospitales 1r,2do,3r orden).\n",
    "- Cuenta con 1.28 camas cada 100 mil habitantes.\n",
    "- Cuenta con 1.61 médicos cada 100 mil habitantes.\n",
    "- Hasta 18 de mayo de 2018 posee una población estimada de 11.216.000 habitantes\n",
    "- Posee una densidad poblacional de 10 habitantes por $km^{2}$\n",
    "\n",
    "### Principales medidas tomadas por Bolivia:\n",
    "- 11/03/20: Segundo caso confirmado de COVID19\n",
    "- 13/03/20: Suspención de labores educativos y vuelos desde y hacia Europa\n",
    "- 21/03/20: Se declara cuarentena total por 14 días\n",
    "- 25/03/20: Se declara estado de emergencia \n",
    "- 14/04/20: Se extiende cuarentena total hasta 31/04\n",
    "- 29/04/20: Se extiende cuarentena total hasta 11/05\n",
    "- 11/05/20: Comienzan a regir cuarentenas dinámicas"
   ]
  },
  {
   "cell_type": "markdown",
   "metadata": {},
   "source": [
    "## Chile:\n",
    "\n",
    "La atención de salud de las personas chilenas está a cargo de un sistema público y privado. FONASA es el ente financiero encargado de recaudar, administrar y distribuir los dineros estatales destinados a salud. El sector privado está representado por las ISAPRE (Instituciones de Salud Previsional) o aseguradoras de salud.\n",
    "\n",
    "- Según un reporte del Ministerio de Salud de Chile el total de establecimientos de salud es de 3813.\n",
    "\n",
    "- Según reportes del gobierno, Chile dispone de 3300 ventiladores mecánicos, lo que corresponde a 16.9 por cada 100.000 habitantes.\n",
    "\n",
    "- Chile cuenta con 2,2 camas por 1000 habitantes según datos del Banco Mundial (al 2013) y con 2,5 médicos por 1000 habitantes según datos del Banco Mundial (al 2018)\n",
    "\n",
    "- Según el INE hasta 30 de junio de 2020, posee una población estimada de 19.458.310 habitantes\n",
    "\n",
    "- Su densidad poblacional de 25 habitantes por $km^{2}$\n",
    "\n",
    "### Principales medidas tomadas por Chile:\n",
    "- 3/03/2020: Se registra el primer caso en el país.\n",
    "\n",
    "- 15/03/2020: Cuarentena obligatoria para cualquier miembro de una comunidad educativa que tenga un familiar directo con contagio confirmado. Cuarentena obligatoria del establecimiento educacional completo en caso de existir dos o más casos de estudiantes con contagio confirmado.\n",
    "\n",
    "- 15/03/2020: Prohibidos todos los eventos públicos con más de 50 personas en todo el país.\n",
    "\n",
    "- 15/03/2020: Personas provenientes de países calificados de Alto Riesgo por la Organización Mundial de la Salud, tendrán que estar en una cuarentena de 14 días al ingresar al país.\n",
    "\n",
    "- 15/03/2020: Aduanas Sanitarias en todas las fronteras terrestres.\n",
    "\n",
    "- 15/03/2020: Cuarentena total en Caleta Tortel.\n",
    "\n",
    "- 15/03/2020: Multas y penas de cárcel por incumplimiento de cuarentenas.\n",
    "\n",
    "- 15/03/2020: Prohibición de eventos públicos con más de 200 personas.\n",
    "\n",
    "- 18/03/2020: Se decreta Estado de Catástrofe.\n",
    "\n",
    "- 18/03/2020: Cierre total de fronteras aéreas, marítimas y terrestres.\n",
    "\n",
    "- 22/03/2020: Se declara el Toque de Queda entre las 22:00 y las 05:00 horas en todo el territorio nacional, sin un plazo de término.\n",
    "\n",
    "- 26/03/2020: Comienzo de cuarentenas alternadas por comunas en la provincia de Santiago y zonas del país con mayores tasas de contagio.\n",
    "\n",
    "- 15/05/2020: Cuarentena total para la provincia de Santiago (extendida hasta la fecha)."
   ]
  },
  {
   "cell_type": "markdown",
   "metadata": {},
   "source": [
    "## Perú\n",
    "\n",
    "El Sistema de Salud del Perú se fragmenta en público (Ministerio de Salud, EsSalud- Seguro Social de Salud, Sanidad de Fuerzas Armadas, Policías y Municipios) y privado.\n",
    "\n",
    "Según un informe de 2016 el total de establecimientos de salud es de 10.922. \n",
    "\n",
    "- A la fecha 13/Abril/2020 informaciones del gobierno peruano detallan un stock de 276 equipos de respiradores mecánicos destinados a esta emergencia, que corresponden a 0,8 por cada 100.000 habitantes.\n",
    "\n",
    "- Peru cuenta con 1,6 Camas cada 1000 habitantes según datos del Banco Mundial (al 2014) y con 1,3 Médicos cada 1000 habitantes según datos del Banco Mundial (al 2016).\n",
    "\n",
    "- Hasta el 30 de junio de 2019, segun INE posee una población estimada de 32.131.400 habitantes.\n",
    "- Su densidad poblacional de 25 habitantes por $km^{2}$\n",
    "\n",
    "### Principales medidas tomadas por Peru:\n",
    "\n",
    "- 6/03/2020: Se registra el primer caso en el país.\n",
    "\n",
    "- 12/03/2020: Creación de la Comisión Multisectorial contra el coronavirus.\n",
    "\n",
    "- 13/03/2020: Se suspenden las actividades académicas en Colegios y casas de estudio superiores (Universidades e Institutos).\n",
    "\n",
    "- 13/03/2020: Prohibición de espectáculos de toda índole con más de 300 asistentes.\n",
    "\n",
    "- 15/03/2020: Se decreta Estado de Emergencia, tras diversas extensiones el término actual es el día 30/06/2020.\n",
    "\n",
    "- 16/03/2020: Se suspenden vuelos provenientes de Asia y Europa.\n",
    "\n",
    "- 16/03/2020: Se declara Cuarentena, tras diversas extensiones el término actual es el día 30/06/2020.\n",
    "\n",
    "- 17/03/2020: Se decreta cierre total de fronteras (terrestre, marítima y aérea). Con autorización de vuelos humanitarios para repatriar a peruanos del extranjero.\n",
    "\n",
    "- 18/03/2020: Se decreta toque de queda a nivel nacional de 20:00 horas a 5:00 horas.\n",
    "\n",
    "- 18/03/2020: Se decreta la prohibición del uso de vehículos particulares a excepción de aquellos necesarios para la prestación de algunos servicios esenciales.\n",
    "\n",
    "- 26/03/2020: Se extiende el horario de toque de queda desde las 18:00 horas (6:00 p.m.) a las 5:00 horas (5:00 a.m.) en regiones más afectadas.\n",
    "\n",
    "- 02/04/2020: Se decreta que salvoconductos serán diferenciados, que varones y mujeres saldrán por separado; los varones los días lunes, miércoles y viernes y las mujeres los días martes, jueves y sábado, y los días domingo, tanto varones y mujeres, no pondrán circular durante el día, exceptuando a aquellas personas con permiso para ello.\n",
    "\n",
    "- 03/04/2020: Se decreta el uso obligatorio de mascarilla para circular por las vías de uso público.\n",
    "\n",
    "- 10/04/2020: Se suspende la salida diferenciada por género."
   ]
  },
  {
   "cell_type": "markdown",
   "metadata": {},
   "source": [
    "Referencias: \n",
    "- https://es.wikipedia.org/wiki/Sistema_de_Salud_de_Bolivia#Hospitales\n",
    "- https://www.sac.org.ar/wp-content/uploads/2018/04/el-sistema-de-salud-argentino.pdf\n",
    "- https://es.wikipedia.org/wiki/Cuarentena_de_Bolivia_de_2020\n",
    "- https://datosmacro.expansion.com/paises/argentina#:~:text=Argentina%2C%20con%20una%20poblaci%C3%B3n%20de,y%20su%20moneda%20Pesos%20argentinos\n",
    "-  https://datosmacro.expansion.com/demografia/poblacion/bolivia#:~:text=Bolivia%20tiene%20una%20densidad%20de,10%20habitantes%20por%20Km2.\n",
    "- https://es.wikipedia.org/wiki/Seguro_Social_de_Salud_del_Per%C3%BA\n",
    "- https://es.wikipedia.org/wiki/Salud_en_el_Per%C3%BA\n",
    "- https://gestion.pe/economia/minsa-el-51-de-hospitales-a-nivel-nacional-con-equipamiento-obsoleto-noticia/?ref=gesr\n",
    "- https://www.gob.pe/institucion/minsa/informes-publicaciones/276726-situacion-de-salud-del-peru-indicadores-basicos-2016\n",
    "- https://www.latercera.com/mundo/noticia/cuantos-ventiladores-hay-por-pais/TDWY2I5PY5ASFDKY5EJLQQXIAY/\n",
    "- https://datos.bancomundial.org/indicador/SH.MED.BEDS.ZS?view=chart\n",
    "- https://datos.bancomundial.org/indicator/SH.MED.PHYS.ZS?view=chart\n",
    "- https://datosmacro.expansion.com/paises/peru\n",
    "- https://es.wikipedia.org/wiki/Cuarentena_de_Per%C3%BA_de_2020#cite_note-8\n",
    "- https://es.wikipedia.org/wiki/Salud_en_Chile\n",
    "- https://reportesdeis.minsal.cl/ListaEstablecimientoWebSite/\n",
    "- https://www.minsal.cl/minsal-dispone-de-3-300-ventiladores-mecanicos-para-emergencia-sanitaria-por-covid-19/\n",
    "- https://datos.bancomundial.org/indicador/SH.MED.BEDS.ZS?view=chart\n",
    "- https://datos.bancomundial.org/indicator/SH.MED.PHYS.ZS?view=chart\n",
    "- https://datosmacro.expansion.com/paises/chile\n",
    "- https://es.wikipedia.org/wiki/Pandemia_de_enfermedad_por_coronavirus_de_2020_en_Chile\n",
    "- https://www.latercera.com/nacional/noticia/presidente-pinera-y-medidas-ante-el-covid-19-cuarentena-para-colegios-donde-- haya-infecciones-examenes-gratuitos-en-fonasa-y-cancelacion-de-eventos-masivos/EFVHN6FCZFEIPCWBOSN5W2ND5A/\n",
    "- https://www.bbc.com/mundo/noticias-america-latina-52655289"
   ]
  },
  {
   "cell_type": "markdown",
   "metadata": {},
   "source": [
    "## Pregunta 1.2"
   ]
  },
  {
   "cell_type": "markdown",
   "metadata": {},
   "source": [
    "Importamos las librerías a utilizar"
   ]
  },
  {
   "cell_type": "code",
   "execution_count": 52,
   "metadata": {},
   "outputs": [],
   "source": [
    "library(dplyr)\n",
    "library(ggplot2)\n",
    "library(tidyr)\n",
    "library(gridExtra)"
   ]
  },
  {
   "cell_type": "markdown",
   "metadata": {},
   "source": [
    "Definimos las variables de población para cada uno de los países escogidos"
   ]
  },
  {
   "cell_type": "code",
   "execution_count": 3,
   "metadata": {},
   "outputs": [],
   "source": [
    "pob_chi <- 19458310 \n",
    "pob_arg <- 45376763\n",
    "pob_bol <- 11216000\n",
    "pob_per <- 32131400"
   ]
  },
  {
   "cell_type": "markdown",
   "metadata": {},
   "source": [
    "Leemos los datos de contagiados, fallecidos y recuperados"
   ]
  },
  {
   "cell_type": "code",
   "execution_count": 4,
   "metadata": {},
   "outputs": [],
   "source": [
    "df_covid_time <- read.csv(\"time_series_covid19_confirmed_global.csv\",sep=\",\",check.names=FALSE)\n",
    "df_covid_deaths <- read.csv(\"time_series_covid19_deaths_global.csv\",sep=\",\",check.names=FALSE)\n",
    "df_covid_recovered <- read.csv(\"time_series_covid19_recovered_global.csv\",sep=\",\",check.names=FALSE)"
   ]
  },
  {
   "cell_type": "markdown",
   "metadata": {},
   "source": [
    "Seleccionamos la información de los países a estudiar"
   ]
  },
  {
   "cell_type": "code",
   "execution_count": 5,
   "metadata": {},
   "outputs": [],
   "source": [
    "df_chi <- df_covid_time[df_covid_time$\"Country/Region\"=='Chile',]\n",
    "df_chi_deaths <- df_covid_deaths[df_covid_deaths$\"Country/Region\"=='Chile',]\n",
    "df_chi_recovered <- df_covid_recovered[df_covid_recovered$\"Country/Region\"=='Chile',]\n",
    "\n",
    "df_arg <- df_covid_time[df_covid_time$\"Country/Region\"=='Argentina',]\n",
    "df_arg_deaths <-df_covid_deaths[df_covid_deaths$\"Country/Region\"=='Argentina',]\n",
    "df_arg_recovered <-df_covid_recovered[df_covid_recovered$\"Country/Region\"=='Argentina',]\n",
    "\n",
    "df_bol <- df_covid_time[df_covid_time$\"Country/Region\"=='Bolivia',]\n",
    "df_bol_deaths <-df_covid_deaths[df_covid_deaths$\"Country/Region\"=='Bolivia',]\n",
    "df_bol_recovered <-df_covid_recovered[df_covid_recovered$\"Country/Region\"=='Bolivia',]\n",
    "\n",
    "df_per <- df_covid_time[df_covid_time$\"Country/Region\"=='Peru',]\n",
    "df_per_deaths <-df_covid_deaths[df_covid_deaths$\"Country/Region\"=='Peru',]\n",
    "df_per_recovered <-df_covid_recovered[df_covid_recovered$\"Country/Region\"=='Peru',]"
   ]
  },
  {
   "cell_type": "markdown",
   "metadata": {},
   "source": [
    "Definimos la función sort_df, que recibe como entrada el dataFrame de contagiados, fallecidos y recuperados, y elimina las columnas que no nos interesan y traspone los datos, para que queden en forma vertical, con las columnas, fecha, muertos y recuperados"
   ]
  },
  {
   "cell_type": "code",
   "execution_count": 6,
   "metadata": {},
   "outputs": [],
   "source": [
    "sort_df <- function(df_c,df_d,df_r){\n",
    "    df_c <-select(df_c, -c(\"Province/State\",\"Lat\",\"Long\"))\n",
    "    df_d <- select(df_d, -c(\"Province/State\",\"Lat\",\"Long\"))\n",
    "    df_r <-select(df_r, -c(\"Province/State\",\"Lat\",\"Long\"))\n",
    "    colnames(df_c)[1]<- 'Pais'\n",
    "    colnames(df_d)[1]<- 'Pais'\n",
    "    colnames(df_r)[1]<- 'Pais'\n",
    "    df_c <- gather(df_c,c(2:ncol(df_c)),key='Fecha',value='Casos')\n",
    "    df_d <- gather(df_d,c(2:ncol(df_d)),key='Fecha',value='Muertos')\n",
    "    df_r <- gather(df_r,c(2:ncol(df_r)),key='Fecha',value='Recuperados')\n",
    "    \n",
    "    return(cbind(df_c,df_d[3],df_r[3]))\n",
    "}"
   ]
  },
  {
   "cell_type": "markdown",
   "metadata": {},
   "source": [
    "Definimos la función add_nc, que recibe como entrada un dataFrame ordenado y retorna un vector con los ''Nuevos casos por día''"
   ]
  },
  {
   "cell_type": "code",
   "execution_count": 7,
   "metadata": {},
   "outputs": [],
   "source": [
    "add_nc <- function(df){\n",
    "    new_cases <- rep(0,length(df$Casos))\n",
    "    for(i in c(2:length(df$Casos))){\n",
    "        new_cases[i] <- df$Casos[i]-df$Casos[i-1]\n",
    "        }\n",
    "    return(new_cases)\n",
    "    }"
   ]
  },
  {
   "cell_type": "markdown",
   "metadata": {},
   "source": [
    "Definimos la función add_params que recibe como entrada un dataFrame ordenado de un ciertos país y su polación, esta me selecciona los datos desde el segundo contagiado y agrega la columna con la tasa de incidencia acumulada, la tasa de incidencia por día, agregamos la columna de ''Casos nuevos por dia'' y la tasa de mortalidad acumulada."
   ]
  },
  {
   "cell_type": "code",
   "execution_count": 8,
   "metadata": {},
   "outputs": [],
   "source": [
    "add_params <- function(df,pob){\n",
    "    #Consideramos desde el 2do caso en adelante\n",
    "    df <- df[df$Casos>=2,]\n",
    "    df <- cbind(c(1:nrow(df)),df)\n",
    "    colnames(df)[1] <- 'Dias'\n",
    "    df$\"Casos_Nuevos\" <- add_nc(df)\n",
    "    #Agregamos la tasa de incidencia\n",
    "    df$\"Tasa_Incidencia\" <- df$Casos*(100000/pob)\n",
    "    #Agregamos la tasa de mortalidad\n",
    "    df$\"Tasa_Mortalidad\" <- df$Muertos*(100000/pob)\n",
    "    #Convertimos la fecha a Date, para trabajarla de mejor manera\n",
    "    df$Fecha <- as.Date(df$Fecha, format = \"%m/%d/%y\")\n",
    "    \n",
    "    return(df)\n",
    "}"
   ]
  },
  {
   "cell_type": "markdown",
   "metadata": {},
   "source": [
    "Aplicamos las funciones definidas a nuestros datos, para obtener dataFrames ordenados, con los datos que necesitamos"
   ]
  },
  {
   "cell_type": "code",
   "execution_count": 9,
   "metadata": {},
   "outputs": [],
   "source": [
    "df_chi <- sort_df(df_chi,df_chi_deaths,df_chi_recovered)\n",
    "df_chi <- add_params(df_chi,pob_chi)\n",
    "\n",
    "df_arg <- sort_df(df_arg,df_arg_deaths,df_arg_recovered)\n",
    "df_arg <- add_params(df_arg,pob_arg)\n",
    "\n",
    "df_bol <- sort_df(df_bol,df_bol_deaths,df_bol_recovered)\n",
    "df_bol <- add_params(df_bol,pob_bol)\n",
    "\n",
    "df_per <- sort_df(df_per,df_per_deaths,df_per_recovered)\n",
    "df_per <- add_params(df_per,pob_per)"
   ]
  },
  {
   "cell_type": "markdown",
   "metadata": {},
   "source": [
    "Unimos los dataFrames de los 4 paises "
   ]
  },
  {
   "cell_type": "code",
   "execution_count": 10,
   "metadata": {},
   "outputs": [
    {
     "data": {
      "text/html": [
       "<table>\n",
       "<caption>A data.frame: 5 × 9</caption>\n",
       "<thead>\n",
       "\t<tr><th></th><th scope=col>Dias</th><th scope=col>Pais</th><th scope=col>Fecha</th><th scope=col>Casos</th><th scope=col>Muertos</th><th scope=col>Recuperados</th><th scope=col>Casos_Nuevos</th><th scope=col>Tasa_Incidencia</th><th scope=col>Tasa_Mortalidad</th></tr>\n",
       "\t<tr><th></th><th scope=col>&lt;int&gt;</th><th scope=col>&lt;fct&gt;</th><th scope=col>&lt;date&gt;</th><th scope=col>&lt;int&gt;</th><th scope=col>&lt;int&gt;</th><th scope=col>&lt;int&gt;</th><th scope=col>&lt;dbl&gt;</th><th scope=col>&lt;dbl&gt;</th><th scope=col>&lt;dbl&gt;</th></tr>\n",
       "</thead>\n",
       "<tbody>\n",
       "\t<tr><th scope=row>44</th><td>1</td><td>Chile    </td><td>2020-03-05</td><td>4</td><td>0</td><td>0</td><td>0</td><td>0.020556770</td><td>0</td></tr>\n",
       "\t<tr><th scope=row>451</th><td>1</td><td>Argentina</td><td>2020-03-06</td><td>2</td><td>0</td><td>0</td><td>0</td><td>0.004407542</td><td>0</td></tr>\n",
       "\t<tr><th scope=row>502</th><td>1</td><td>Bolivia  </td><td>2020-03-11</td><td>2</td><td>0</td><td>0</td><td>0</td><td>0.017831669</td><td>0</td></tr>\n",
       "\t<tr><th scope=row>472</th><td>1</td><td>Peru     </td><td>2020-03-08</td><td>6</td><td>0</td><td>0</td><td>0</td><td>0.018673323</td><td>0</td></tr>\n",
       "\t<tr><th scope=row>45</th><td>2</td><td>Chile    </td><td>2020-03-06</td><td>4</td><td>0</td><td>0</td><td>0</td><td>0.020556770</td><td>0</td></tr>\n",
       "</tbody>\n",
       "</table>\n"
      ],
      "text/latex": [
       "A data.frame: 5 × 9\n",
       "\\begin{tabular}{r|lllllllll}\n",
       "  & Dias & Pais & Fecha & Casos & Muertos & Recuperados & Casos\\_Nuevos & Tasa\\_Incidencia & Tasa\\_Mortalidad\\\\\n",
       "  & <int> & <fct> & <date> & <int> & <int> & <int> & <dbl> & <dbl> & <dbl>\\\\\n",
       "\\hline\n",
       "\t44 & 1 & Chile     & 2020-03-05 & 4 & 0 & 0 & 0 & 0.020556770 & 0\\\\\n",
       "\t451 & 1 & Argentina & 2020-03-06 & 2 & 0 & 0 & 0 & 0.004407542 & 0\\\\\n",
       "\t502 & 1 & Bolivia   & 2020-03-11 & 2 & 0 & 0 & 0 & 0.017831669 & 0\\\\\n",
       "\t472 & 1 & Peru      & 2020-03-08 & 6 & 0 & 0 & 0 & 0.018673323 & 0\\\\\n",
       "\t45 & 2 & Chile     & 2020-03-06 & 4 & 0 & 0 & 0 & 0.020556770 & 0\\\\\n",
       "\\end{tabular}\n"
      ],
      "text/markdown": [
       "\n",
       "A data.frame: 5 × 9\n",
       "\n",
       "| <!--/--> | Dias &lt;int&gt; | Pais &lt;fct&gt; | Fecha &lt;date&gt; | Casos &lt;int&gt; | Muertos &lt;int&gt; | Recuperados &lt;int&gt; | Casos_Nuevos &lt;dbl&gt; | Tasa_Incidencia &lt;dbl&gt; | Tasa_Mortalidad &lt;dbl&gt; |\n",
       "|---|---|---|---|---|---|---|---|---|---|\n",
       "| 44 | 1 | Chile     | 2020-03-05 | 4 | 0 | 0 | 0 | 0.020556770 | 0 |\n",
       "| 451 | 1 | Argentina | 2020-03-06 | 2 | 0 | 0 | 0 | 0.004407542 | 0 |\n",
       "| 502 | 1 | Bolivia   | 2020-03-11 | 2 | 0 | 0 | 0 | 0.017831669 | 0 |\n",
       "| 472 | 1 | Peru      | 2020-03-08 | 6 | 0 | 0 | 0 | 0.018673323 | 0 |\n",
       "| 45 | 2 | Chile     | 2020-03-06 | 4 | 0 | 0 | 0 | 0.020556770 | 0 |\n",
       "\n"
      ],
      "text/plain": [
       "    Dias Pais      Fecha      Casos Muertos Recuperados Casos_Nuevos\n",
       "44  1    Chile     2020-03-05 4     0       0           0           \n",
       "451 1    Argentina 2020-03-06 2     0       0           0           \n",
       "502 1    Bolivia   2020-03-11 2     0       0           0           \n",
       "472 1    Peru      2020-03-08 6     0       0           0           \n",
       "45  2    Chile     2020-03-06 4     0       0           0           \n",
       "    Tasa_Incidencia Tasa_Mortalidad\n",
       "44  0.020556770     0              \n",
       "451 0.004407542     0              \n",
       "502 0.017831669     0              \n",
       "472 0.018673323     0              \n",
       "45  0.020556770     0              "
      ]
     },
     "metadata": {},
     "output_type": "display_data"
    }
   ],
   "source": [
    "df_final <- rbind(df_chi,df_arg,df_bol,df_per)\n",
    "df_final <- df_final[order(df_final$Dias),]\n",
    "head(df_final,n=5)"
   ]
  },
  {
   "cell_type": "markdown",
   "metadata": {},
   "source": [
    "Ya que tenemos un dataFrame con los datos de contiago de los 4 paises seleccionados desde el 2do caso, graficamos la evolución de los casos en función del tiempo, desde el día del segundo caso de cada país"
   ]
  },
  {
   "cell_type": "code",
   "execution_count": 53,
   "metadata": {},
   "outputs": [
    {
     "data": {
      "image/png": "[encoded data removed]",
      "text/plain": [
       "plot without title"
      ]
     },
     "metadata": {
      "image/png": {
       "height": 420,
       "width": 420
      }
     },
     "output_type": "display_data"
    }
   ],
   "source": [
    "graph1 <- ggplot(df_final) + geom_line(aes(x = Dias, y = Casos, col = Pais), size=1, alpha = 1) + ggtitle(\"Evolución de casos COVID19 por País desde el 2do caso\") + theme_bw()\n",
    "\n",
    "ggsave(plot = graph1, width = w*7, height = 8, dpi = 300, filename = \"graph1.2.pdf\")\n",
    "graph1"
   ]
  },
  {
   "cell_type": "markdown",
   "metadata": {},
   "source": [
    "En primer lugar, es importante considerar para el análisis de este grafico las diferencias significativas existentes en las poblaciones. Es lógico pensar que un numero mayor de contagios total podría deberse a que el país tiene mayor población. Para ello podemos analizar por duplas, considerando las poblaciones similares en Perú – Argentina y aun que menos cercanas Chile – Bolivia.\n",
    "\n",
    "Observamos que evidentemente el país que presenta mayor número de contagiados totales uno con población mayor dentro de la muestra: Perú. Sin embargo, llama la atención debido a que Perú es catalogado internacionalmente como uno de los países más restrictivos en cuanto a normas por covid-19 de Latinoamérica. Si comparamos las curvas de Perú con Argentina quien tiene una población más cercana y aún mayor, podemos ver que difieren bastante pese a que Argentina ha adoptado medidas similares.\n",
    "\n",
    "Esto puede deberse a la situación económica de cada país y el cumplimiento efectivo de estas normas (en donde influyen diversos factores como la educación, por ejemplo). Argentina es la economía número 26 por volumen del PIB, en cambió Perú la número 50. Argentina realiza un gasto público de un 5,5% del PIB en educación, en cambio Perú solo de un 3,7. \n",
    "Otros factores sobre la caracterización de la población son importantes, por ejemplo, datos de la última encuesta nacional de hogares de Perú de 2019 indican que solo el 21,9% de hogares pobres de Perú tiene refrigeradora, lo que conlleva a que estos ciudadanos deban salir con mayor recurrencia a abastecerse de alimentos. \n",
    "\n",
    "En el caso de Chile, podemos observar en el gráfico que también presenta una alta cantidad de contagios totales, lo anterior se puede deber al tipo de normas aplicadas en el país. Siendo el único de estos cuatro en no aplicar por ejemplo Cuarentena obligatoria de manera rápida, ni hacerlo de manera total, sino que mediante un sistema parcializado de rotación. Además, a diferencia de Bolivia, por ejemplo, Chile no realizó suspensiones de clases de manera total a un comienzo de la Pandemia y esperó también para realizar un cierre total de fronteras. \n",
    "\n",
    "En el caso de comprar Chile con Bolivia es importante considerar además que Chile tiene una densidad poblacional mucho mayor.\n"
   ]
  },
  {
   "cell_type": "markdown",
   "metadata": {},
   "source": [
    "Referencias:\n",
    "- https://datos.bancomundial.org/indicator/SE.XPD.TOTL.GD.ZS\n",
    "- https://www.elmostrador.cl/dia/2020/05/22/cuarentena-en-peru-5-factores-que-explican-por-que-las-medidas-de-confinamiento-no-impiden-que-sea-el-segundo-pais-de-america-latina-con-mas-casos-de-covid-19/\n"
   ]
  },
  {
   "cell_type": "markdown",
   "metadata": {},
   "source": [
    "## Pregunta 1.3"
   ]
  },
  {
   "cell_type": "markdown",
   "metadata": {},
   "source": [
    "La tasa de incidencia se define como el número de casos nuevos de una enfermedad u otra condición de salud dividido por la población en riesgo de la enfermedad (población expuesta) en un lugar específico y durante un período especifico. \n",
    "\n",
    "$\\textbf{Interpretación epidemiológica:}$ Esta tasa permite calcular la probabilidad de que haya un cambio de estado(i.e. de no tener la enfermedad a enfermarse) es un intervalo determinado. En términos epidemiológicos, esto se denomina ''riesgo''. El riesgo es, la probabilidad de cambio de estado en una población de interés y en un intervalo dado. "
   ]
  },
  {
   "cell_type": "markdown",
   "metadata": {},
   "source": [
    "Para el caso del COVID-19 y la realización de esta tarea consideramos la Tasa de Incidencia como:\n",
    "\n",
    "\\begin{equation*}\n",
    "    TI = \\frac{\\mbox{\\# Casos confirmados País}}{\\mbox{Población País}}\\cdot 100.000\n",
    "\\end{equation*}\n",
    "\n",
    "Fuente:\n",
    "- https://www.paho.org/hq/index.php?option=com_content&view=article&id=14402:health-indicators-conceptual-and-operational-considerations-section-2&Itemid=0&showall=1&lang=es"
   ]
  },
  {
   "cell_type": "markdown",
   "metadata": {},
   "source": [
    "Calculamos la Tasa de Incidencia acumulada hasta el último periodo, es decir, lo casos confirmados hasta el último dato de nuestro dataFrame por país"
   ]
  },
  {
   "cell_type": "markdown",
   "metadata": {},
   "source": [
    "Rescatamos el último dato de contagiados por país"
   ]
  },
  {
   "cell_type": "code",
   "execution_count": 12,
   "metadata": {},
   "outputs": [],
   "source": [
    "#Tomamos el último valor de nuestros df\n",
    "acum_chi <- tail(df_chi$Casos, n=1) \n",
    "acum_arg <- tail(df_arg$Casos, n=1) \n",
    "acum_bol <- tail(df_bol$Casos, n=1)\n",
    "acum_per <- tail(df_per$Casos, n=1)"
   ]
  },
  {
   "cell_type": "markdown",
   "metadata": {},
   "source": [
    "Calculamos las tasas de Incidencia"
   ]
  },
  {
   "cell_type": "code",
   "execution_count": 13,
   "metadata": {},
   "outputs": [
    {
     "name": "stdout",
     "output_type": "stream",
     "text": [
      "[1] \"Tasa de incidencia Chile:  63.2429023897759\"\n",
      "[1] \"Tasa de incidencia Argentina:  7.94900244426867\"\n",
      "[1] \"Tasa de incidencia Bolivia:  7.19507845934379\"\n",
      "[1] \"Tasa de incidencia Peru:  67.3733481889989\"\n"
     ]
    }
   ],
   "source": [
    "ti_chi <- (acum_chi/pob_chi)*100000\n",
    "ti_arg <- (acum_arg/pob_arg)*100000\n",
    "ti_bol <- (acum_bol/pob_bol)*100000\n",
    "ti_per <- (acum_per/pob_per)*100000\n",
    "\n",
    "print(paste('Tasa de incidencia Chile: ',ti_chi))\n",
    "print(paste('Tasa de incidencia Argentina: ',ti_arg))\n",
    "print(paste('Tasa de incidencia Bolivia: ',ti_bol))\n",
    "print(paste('Tasa de incidencia Peru: ',ti_per))"
   ]
  },
  {
   "cell_type": "markdown",
   "metadata": {},
   "source": [
    "## Conclusiones"
   ]
  },
  {
   "cell_type": "markdown",
   "metadata": {},
   "source": [
    "Podemos observar que Chile y Perú son aquellos países con Tasas de Incidencia mayores, que recordemos también eran aquellos con mayor número de contagios confirmados totales. Sin embargo, para este caso Chile toma la delantera ya que Perú tiene muchísima mayor población total que Chile.\n",
    "\n",
    "Se puede desprender del gráfico que Chile es el país con mayor porcentaje de la población total contagiada de estos 4 países de la muestra, seguido por Perú.\n",
    "\n",
    "Esto podría entenderse por las medidas mencionadas en la pregunta anterior. Considerando que Chile no ha tomado medidas tan extremas durante el periodo analizado como si lo han hecho el resto de los países (cuarentena obligatoria, cancelación rápida de clases o cierres de frontera)\n"
   ]
  },
  {
   "cell_type": "markdown",
   "metadata": {},
   "source": [
    "## Pregunta 1.4"
   ]
  },
  {
   "cell_type": "markdown",
   "metadata": {},
   "source": [
    "Escogemos un periodo de tiempo de 2 semanas desde que se reportaron 200 casos"
   ]
  },
  {
   "cell_type": "markdown",
   "metadata": {},
   "source": [
    "Creamos la siguiente función, que agrega una columna con la tasa de contagio a un cierto dataFrame"
   ]
  },
  {
   "cell_type": "code",
   "execution_count": 14,
   "metadata": {},
   "outputs": [],
   "source": [
    "add_tc <- function(df,pob){\n",
    "    #Agregamos la tasa de contagio al data frame\n",
    "    df$\"Tasa_Contagio\" <- df$Casos-df$Muertos-df$Recuperados*(100000/pob)\n",
    "    return(df)\n",
    "}"
   ]
  },
  {
   "cell_type": "markdown",
   "metadata": {},
   "source": [
    "Creamos una función, que recibe como parametros, el numero de contagios mínimos, el numero de semanas posterior a este ''n'' de contagios y el data frame. Esta función nos permite ''recortar'' nuestro data frame"
   ]
  },
  {
   "cell_type": "code",
   "execution_count": 15,
   "metadata": {},
   "outputs": [],
   "source": [
    "week <- function(n,w,df){\n",
    "    df <- df[df$Casos>n,]\n",
    "    df <- df[df$Fecha>=df$Fecha[1] & df$Fecha<(df$Fecha+(w*7))[1],]\n",
    "    return(df)\n",
    "}"
   ]
  },
  {
   "cell_type": "markdown",
   "metadata": {},
   "source": [
    "Para este caso consideraremos $w=2$ semanas desde que ocurren $n=200$ contagios"
   ]
  },
  {
   "cell_type": "code",
   "execution_count": 16,
   "metadata": {},
   "outputs": [],
   "source": [
    "n = 200\n",
    "w = 2"
   ]
  },
  {
   "cell_type": "markdown",
   "metadata": {},
   "source": [
    "Aplicamos las funciones para los dataFrames de los países"
   ]
  },
  {
   "cell_type": "code",
   "execution_count": 17,
   "metadata": {},
   "outputs": [],
   "source": [
    "df_chi2 <- week(n,w,df_chi) #Filtramos el df a w semanas desde que se producen n casos\n",
    "df_chi2 <- add_tc(df_chi2,pob_chi) #Agregmaos la tasa de contagio en el periodo mencionado\n",
    "df_chi2$Dias <- c(1:nrow(df_chi2)) #Agregamos una nueva columna con la tasa de contagio\n",
    "\n",
    "df_arg2 <- week(n,w,df_arg) \n",
    "df_arg2 <- add_tc(df_arg2,pob_arg)\n",
    "df_arg2$Dias <- c(1:nrow(df_arg2))\n",
    "\n",
    "df_bol2 <- week(n,w,df_bol) \n",
    "df_bol2 <- add_tc(df_bol2,pob_bol)\n",
    "df_bol2$Dias <- c(1:nrow(df_bol2))\n",
    "\n",
    "df_per2 <- week(n,w,df_per) \n",
    "df_per2 <- add_tc(df_per2,pob_per)\n",
    "df_per2$Dias <- c(1:nrow(df_per2))"
   ]
  },
  {
   "cell_type": "markdown",
   "metadata": {},
   "source": [
    "Unimos todos los data frames"
   ]
  },
  {
   "cell_type": "code",
   "execution_count": 18,
   "metadata": {},
   "outputs": [],
   "source": [
    "df_final2 <- rbind(df_chi2,df_arg2,df_bol2,df_per2)\n",
    "df_final2 <- df_final2[order(df_final2$Dias),]"
   ]
  },
  {
   "cell_type": "code",
   "execution_count": 19,
   "metadata": {},
   "outputs": [
    {
     "data": {
      "text/html": [
       "<table>\n",
       "<caption>A data.frame: 5 × 10</caption>\n",
       "<thead>\n",
       "\t<tr><th></th><th scope=col>Dias</th><th scope=col>Pais</th><th scope=col>Fecha</th><th scope=col>Casos</th><th scope=col>Muertos</th><th scope=col>Recuperados</th><th scope=col>Casos_Nuevos</th><th scope=col>Tasa_Incidencia</th><th scope=col>Tasa_Mortalidad</th><th scope=col>Tasa_Contagio</th></tr>\n",
       "\t<tr><th></th><th scope=col>&lt;int&gt;</th><th scope=col>&lt;fct&gt;</th><th scope=col>&lt;date&gt;</th><th scope=col>&lt;int&gt;</th><th scope=col>&lt;int&gt;</th><th scope=col>&lt;int&gt;</th><th scope=col>&lt;dbl&gt;</th><th scope=col>&lt;dbl&gt;</th><th scope=col>&lt;dbl&gt;</th><th scope=col>&lt;dbl&gt;</th></tr>\n",
       "</thead>\n",
       "<tbody>\n",
       "\t<tr><th scope=row>56</th><td>1</td><td>Chile    </td><td>2020-03-17</td><td>201</td><td> 0</td><td>0</td><td> 46</td><td>1.0329777</td><td>0.000000000</td><td>201.0000</td></tr>\n",
       "\t<tr><th scope=row>611</th><td>1</td><td>Argentina</td><td>2020-03-22</td><td>266</td><td> 4</td><td>3</td><td>108</td><td>0.5862031</td><td>0.008815084</td><td>261.9934</td></tr>\n",
       "\t<tr><th scope=row>78</th><td>1</td><td>Bolivia  </td><td>2020-04-08</td><td>210</td><td>15</td><td>2</td><td> 16</td><td>1.8723252</td><td>0.133737518</td><td>194.9822</td></tr>\n",
       "\t<tr><th scope=row>581</th><td>1</td><td>Peru     </td><td>2020-03-19</td><td>234</td><td> 0</td><td>1</td><td> 89</td><td>0.7282596</td><td>0.000000000</td><td>233.9969</td></tr>\n",
       "\t<tr><th scope=row>57</th><td>2</td><td>Chile    </td><td>2020-03-18</td><td>238</td><td> 0</td><td>0</td><td> 37</td><td>1.2231278</td><td>0.000000000</td><td>238.0000</td></tr>\n",
       "</tbody>\n",
       "</table>\n"
      ],
      "text/latex": [
       "A data.frame: 5 × 10\n",
       "\\begin{tabular}{r|llllllllll}\n",
       "  & Dias & Pais & Fecha & Casos & Muertos & Recuperados & Casos\\_Nuevos & Tasa\\_Incidencia & Tasa\\_Mortalidad & Tasa\\_Contagio\\\\\n",
       "  & <int> & <fct> & <date> & <int> & <int> & <int> & <dbl> & <dbl> & <dbl> & <dbl>\\\\\n",
       "\\hline\n",
       "\t56 & 1 & Chile     & 2020-03-17 & 201 &  0 & 0 &  46 & 1.0329777 & 0.000000000 & 201.0000\\\\\n",
       "\t611 & 1 & Argentina & 2020-03-22 & 266 &  4 & 3 & 108 & 0.5862031 & 0.008815084 & 261.9934\\\\\n",
       "\t78 & 1 & Bolivia   & 2020-04-08 & 210 & 15 & 2 &  16 & 1.8723252 & 0.133737518 & 194.9822\\\\\n",
       "\t581 & 1 & Peru      & 2020-03-19 & 234 &  0 & 1 &  89 & 0.7282596 & 0.000000000 & 233.9969\\\\\n",
       "\t57 & 2 & Chile     & 2020-03-18 & 238 &  0 & 0 &  37 & 1.2231278 & 0.000000000 & 238.0000\\\\\n",
       "\\end{tabular}\n"
      ],
      "text/markdown": [
       "\n",
       "A data.frame: 5 × 10\n",
       "\n",
       "| <!--/--> | Dias &lt;int&gt; | Pais &lt;fct&gt; | Fecha &lt;date&gt; | Casos &lt;int&gt; | Muertos &lt;int&gt; | Recuperados &lt;int&gt; | Casos_Nuevos &lt;dbl&gt; | Tasa_Incidencia &lt;dbl&gt; | Tasa_Mortalidad &lt;dbl&gt; | Tasa_Contagio &lt;dbl&gt; |\n",
       "|---|---|---|---|---|---|---|---|---|---|---|\n",
       "| 56 | 1 | Chile     | 2020-03-17 | 201 |  0 | 0 |  46 | 1.0329777 | 0.000000000 | 201.0000 |\n",
       "| 611 | 1 | Argentina | 2020-03-22 | 266 |  4 | 3 | 108 | 0.5862031 | 0.008815084 | 261.9934 |\n",
       "| 78 | 1 | Bolivia   | 2020-04-08 | 210 | 15 | 2 |  16 | 1.8723252 | 0.133737518 | 194.9822 |\n",
       "| 581 | 1 | Peru      | 2020-03-19 | 234 |  0 | 1 |  89 | 0.7282596 | 0.000000000 | 233.9969 |\n",
       "| 57 | 2 | Chile     | 2020-03-18 | 238 |  0 | 0 |  37 | 1.2231278 | 0.000000000 | 238.0000 |\n",
       "\n"
      ],
      "text/plain": [
       "    Dias Pais      Fecha      Casos Muertos Recuperados Casos_Nuevos\n",
       "56  1    Chile     2020-03-17 201    0      0            46         \n",
       "611 1    Argentina 2020-03-22 266    4      3           108         \n",
       "78  1    Bolivia   2020-04-08 210   15      2            16         \n",
       "581 1    Peru      2020-03-19 234    0      1            89         \n",
       "57  2    Chile     2020-03-18 238    0      0            37         \n",
       "    Tasa_Incidencia Tasa_Mortalidad Tasa_Contagio\n",
       "56  1.0329777       0.000000000     201.0000     \n",
       "611 0.5862031       0.008815084     261.9934     \n",
       "78  1.8723252       0.133737518     194.9822     \n",
       "581 0.7282596       0.000000000     233.9969     \n",
       "57  1.2231278       0.000000000     238.0000     "
      ]
     },
     "metadata": {},
     "output_type": "display_data"
    }
   ],
   "source": [
    "head(df_final2,n=5)"
   ]
  },
  {
   "cell_type": "code",
   "execution_count": 20,
   "metadata": {},
   "outputs": [],
   "source": [
    "graph2 <- ggplot(df_final2) + geom_line(aes(x = Dias, y = Casos, col = Pais), size=1, alpha = 1) + \n",
    "                                                                                    ggtitle(\"Tasa de contagio acumulada desde que se superan 200 confirmados\") + theme_bw()\n",
    "ggsave(plot = graph2, width = w*7, height = 8, dpi = 300, filename = \"graph1.4.pdf\")\n"
   ]
  },
  {
   "cell_type": "code",
   "execution_count": 21,
   "metadata": {},
   "outputs": [
    {
     "data": {
      "image/png": "[encoded data removed]",
      "text/plain": [
       "plot without title"
      ]
     },
     "metadata": {
      "image/png": {
       "height": 420,
       "width": 420
      }
     },
     "output_type": "display_data"
    }
   ],
   "source": [
    "graph2"
   ]
  },
  {
   "cell_type": "markdown",
   "metadata": {},
   "source": [
    "## Calcularemos el intervalo de confianza de la tasa de contagio como:\n",
    "\n",
    "\\begin{equation*}\n",
    "    (\\hat{p}-z_{\\alpha/2}\\sqrt{\\frac{\\hat{p}(100.000-\\hat{p})}{n}} , \\hat{p}+z_{\\alpha/2}\\sqrt{\\frac{\\hat{p}(100.000-\\hat{p})}{n}})\n",
    "\\end{equation*}"
   ]
  },
  {
   "cell_type": "markdown",
   "metadata": {},
   "source": [
    "Donde,\n",
    "\n",
    "\\begin{equation*}\n",
    "    \\hat{p} = \\frac{\\# Contagiados - \\# Fallecidos - \\# Recuperados}{Población}\\cdot100.000 = \\mbox{Tasa de Contagio}\n",
    "\\end{equation*}\n",
    "\n",
    "y $n$ es la población de cada país."
   ]
  },
  {
   "cell_type": "markdown",
   "metadata": {},
   "source": [
    "Calculamos el número de contagios, fallecidos y recuperados para cada país en el intervalo de tiempo de dos semanas luego que cada país alcanza los 200 contagios confirmados"
   ]
  },
  {
   "cell_type": "code",
   "execution_count": 22,
   "metadata": {},
   "outputs": [],
   "source": [
    "n_cont_chi <- sum(df_chi2$Casos_Nuevos)\n",
    "n_fall_chi <- tail(df_chi2$Muertos, n=1) - df_chi2$Muertos[1]\n",
    "n_rec_chi <- tail(df_chi2$Recuperados, n=1) - df_chi2$Recuperados[1]\n",
    "\n",
    "n_cont_arg <- sum(df_arg2$Casos_Nuevos)\n",
    "n_fall_arg <- tail(df_arg2$Muertos, n=1) - df_arg2$Muertos[1]\n",
    "n_rec_arg <- tail(df_arg2$Recuperados, n=1) - df_arg2$Recuperados[1]\n",
    "\n",
    "n_cont_bol <- sum(df_bol2$Casos_Nuevos)\n",
    "n_fall_bol <- tail(df_bol2$Muertos, n=1) - df_bol2$Muertos[1]\n",
    "n_rec_bol <- tail(df_bol2$Recuperados, n=1) - df_bol2$Recuperados[1]\n",
    "\n",
    "n_cont_per <- sum(df_per2$Casos_Nuevos)\n",
    "n_fall_per <- tail(df_per2$Muertos, n=1) - df_per2$Muertos[1]\n",
    "n_rec_per <- tail(df_per2$Recuperados, n=1) - df_per2$Recuperados[1]"
   ]
  },
  {
   "cell_type": "markdown",
   "metadata": {},
   "source": [
    "Obtenemos la tasa de contagio por país, que corresponde efectivamente a la proporción de casos activos por cada 100.000 habitantes"
   ]
  },
  {
   "cell_type": "code",
   "execution_count": 23,
   "metadata": {},
   "outputs": [
    {
     "name": "stdout",
     "output_type": "stream",
     "text": [
      "[1] \"Tasa contagio Chile: 10.9464799358218\"\n",
      "[1] \"Tasa contagio Argentina: 2.15528815927218\"\n",
      "[1] \"Tasa contagio Bolivia: 3.12054208273894\"\n",
      "[1] \"Tasa contagio Peru: 2.32482867226451\"\n"
     ]
    }
   ],
   "source": [
    "tc_chi <- (n_cont_chi-n_fall_chi-n_rec_chi)/(pob_chi)*100000\n",
    "tc_arg <- (n_cont_arg-n_fall_arg-n_rec_arg)/(pob_arg)*100000\n",
    "tc_bol <- (n_cont_bol-n_fall_bol-n_rec_bol)/(pob_bol)*100000\n",
    "tc_per <- (n_cont_per-n_fall_per-n_rec_per)/(pob_per)*100000\n",
    "\n",
    "print(paste('Tasa contagio Chile:',tc_chi))\n",
    "print(paste('Tasa contagio Argentina:',tc_arg))\n",
    "print(paste('Tasa contagio Bolivia:',tc_bol))\n",
    "print(paste('Tasa contagio Peru:',tc_per))"
   ]
  },
  {
   "cell_type": "markdown",
   "metadata": {},
   "source": [
    "Utilizaremos un $\\alpha = 0.05$, donde $z_{\\alpha/2}$ = 1.959964"
   ]
  },
  {
   "cell_type": "code",
   "execution_count": 24,
   "metadata": {},
   "outputs": [
    {
     "name": "stdout",
     "output_type": "stream",
     "text": [
      "[1] 1.959964\n"
     ]
    }
   ],
   "source": [
    "z_alpha2 <- qnorm(1- 0.05/2)\n",
    "print(z_alpha2)"
   ]
  },
  {
   "cell_type": "code",
   "execution_count": 25,
   "metadata": {},
   "outputs": [
    {
     "name": "stdout",
     "output_type": "stream",
     "text": [
      "[1] \"Intervalo de Confianza de Tasa de Contagio para Argentina: 2.02021180625524 2.29036451228912\"\n",
      "[1] \"Intervalo de Confianza de Tasa de Contagio para Chile: 10.4816340373125 11.411325834331\"\n",
      "[1] \"Intervalo de Confianza de Tasa de Contagio para Bolivia: 2.79362520965667 3.44745895582122\"\n",
      "[1] \"Intervalo de Confianza de Tasa de Contagio para Peru: 2.15811404916677 2.49154329536225\"\n"
     ]
    }
   ],
   "source": [
    "int_chi <- c(tc_chi-z_alpha2*sqrt((tc_chi*(100000-tc_chi))/pob_chi), tc_chi+z_alpha2*sqrt((tc_chi*(100000-tc_chi))/pob_chi))\n",
    "int_arg <- c(tc_arg-z_alpha2*sqrt((tc_arg*(100000-tc_arg))/pob_arg), tc_arg+z_alpha2*sqrt((tc_arg*(100000-tc_arg))/pob_arg))\n",
    "int_bol <- c(tc_bol-z_alpha2*sqrt((tc_bol*(100000-tc_bol))/pob_bol), tc_bol+z_alpha2*sqrt((tc_bol*(100000-tc_bol))/pob_bol))\n",
    "int_per <- c(tc_per-z_alpha2*sqrt((tc_per*(100000-tc_per))/pob_per), tc_per+z_alpha2*sqrt((tc_per*(100000-tc_per))/pob_per))\n",
    "\n",
    "\n",
    "print(paste('Intervalo de Confianza de Tasa de Contagio para Argentina:',int_arg[1],int_arg[2]))\n",
    "print(paste('Intervalo de Confianza de Tasa de Contagio para Chile:',int_chi[1],int_chi[2]))\n",
    "print(paste('Intervalo de Confianza de Tasa de Contagio para Bolivia:',int_bol[1],int_bol[2]))\n",
    "print(paste('Intervalo de Confianza de Tasa de Contagio para Peru:',int_per[1],int_per[2]))\n"
   ]
  },
  {
   "cell_type": "markdown",
   "metadata": {},
   "source": [
    "### Conclusiones"
   ]
  },
  {
   "cell_type": "markdown",
   "metadata": {},
   "source": [
    "Para el caso del análisis de la Tasa de Contagio, podemos observar que nuevamente Chile toma la delantera. Esto quiere decir que de aquellos casos confirmados el porcentaje que efectivamente está activo, o sea que puede potencialmente contagiar a otros es mayor en Chile que en el resto de los Países, lo que a su vez es preocupante porque Chile posee una población considerablemente menor con respecto a Argentina y Perú.\n"
   ]
  },
  {
   "cell_type": "markdown",
   "metadata": {},
   "source": [
    "Si observamos los datos presentados en la parte 1 podemos observar que Chile cuenta con una capacidad mucho mayor de camas hospitalarias y de médicos por habitantes que Perú y Bolivia y aún así presenta esta diferencia importante, lo que puede representar por un lado, el poco cuidado de la población y falta de medidas estrictas de parte de las autoridades para evitar la propagación del virus o simplemente que la diferencia se deba al factor de población que influencia el cálculo, siendo Chile el segundo con menos habitantes.\n",
    "\n",
    "Por otro lado, observamos que para que Chile cuente con una Tasa de Contagio mayor que el resto de los países puede ser también que en estos últimos el porcentaje de recuperados sea mayor, lo cual es el caso de Argentina que cuenta con mayor capacidad de ventiladores mecánicos y camas hospitalarias por habitantes que Chile, lo cual podría ayudar a aumentar el porcentaje de pacientes recuperados.\n",
    "\n",
    "Asimismo con respecto a Bolivia, aunque es el país con menos población mantiene una tasa de contagio bastante baja e igual a Argentina y Perú que poseen una población mucho mayor. Esto se puede deber por un lado al cuidado de la población y a la efectividad de las medidas sanitarias o simplementes a factores, tales como la densidad de población, ya que Bolivia tiene 10 habitantes por km2, en comparación a los 16 y 25 de Argentina y Perú."
   ]
  },
  {
   "cell_type": "markdown",
   "metadata": {},
   "source": [
    "# Pregunta 2"
   ]
  },
  {
   "cell_type": "markdown",
   "metadata": {},
   "source": [
    "### Pregunta 2.1"
   ]
  },
  {
   "cell_type": "markdown",
   "metadata": {},
   "source": [
    "Realizaremos dos test de diferencia de medias, comparando la media de la tasa de incidencia acumulada. Para esto, compararemos Chile - Peru y Argentina- Bolivia, y realizaremos un test de hipótesis al 95% de confianza para ver si existe diferencia estadísticamente significativa entre la media de Tasa de Incidencia Acumulada de ambos pares de paises.\n",
    "\n",
    " * _Para realizar estos test trabajaremos bajo el supuesto de que la Tasa de Incidencia acumulada se distribuye de forma Normal_\n"
   ]
  },
  {
   "cell_type": "markdown",
   "metadata": {},
   "source": [
    "### Test 1: Chile - Peru.  Realizaremos el siguiente test."
   ]
  },
  {
   "cell_type": "markdown",
   "metadata": {},
   "source": [
    "$$H_{0}: \\bar{X}_{Chi} = \\bar{X}_{Per}\\\\\n",
    "  H_{A}: \\bar{X}_{Chi} \\neq \\bar{X}_{Per}$$"
   ]
  },
  {
   "cell_type": "markdown",
   "metadata": {},
   "source": [
    "Hacemos un diagrama de caja para visualizar los datos a estudiar en el test de diferencia de medias"
   ]
  },
  {
   "cell_type": "code",
   "execution_count": 26,
   "metadata": {},
   "outputs": [
    {
     "data": {
      "image/png": "[encoded data removed]",
      "text/plain": [
       "plot without title"
      ]
     },
     "metadata": {
      "image/png": {
       "height": 420,
       "width": 420
      }
     },
     "output_type": "display_data"
    }
   ],
   "source": [
    "ggplot(data = df_final[df_final$Pais == \"Chile\" | df_final$Pais=='Peru',], aes(x= Pais, y= Tasa_Incidencia, color = Pais)) + \n",
    "  geom_boxplot() +\n",
    "  theme_bw()"
   ]
  },
  {
   "cell_type": "markdown",
   "metadata": {},
   "source": [
    "Utilizando la funcion t.test efectuamos el test de diferencia de medias.\n"
   ]
  },
  {
   "cell_type": "code",
   "execution_count": 27,
   "metadata": {},
   "outputs": [
    {
     "data": {
      "text/plain": [
       "\n",
       "\tTwo Sample t-test\n",
       "\n",
       "data:  df_final[df_final$Pais == \"Peru\", ]$Tasa_Incidencia and df_final[df_final$Pais == \"Chile\", ]$Tasa_Incidencia\n",
       "t = -1.1158, df = 97, p-value = 0.2673\n",
       "alternative hypothesis: true difference in means is not equal to 0\n",
       "95 percent confidence interval:\n",
       " -12.794774   3.585972\n",
       "sample estimates:\n",
       "mean of x mean of y \n",
       " 15.23691  19.84131 \n"
      ]
     },
     "metadata": {},
     "output_type": "display_data"
    }
   ],
   "source": [
    "t.test(x = df_final[df_final$Pais == \"Peru\",]$Tasa_Incidencia,\n",
    "       y = df_final[df_final$Pais == \"Chile\", ]$Tasa_Incidencia,\n",
    "       alternative = \"two.sided\", mu = 0, var.equal = TRUE, conf.level = 0.95 )"
   ]
  },
  {
   "cell_type": "markdown",
   "metadata": {},
   "source": [
    "Con los valores obtenidos podemos concluir segun los 3 principios:\n",
    "\n",
    "1. Podemos ver que el valor del estadistico en valor absouto es z =1.1158 como tenemos un n grande (df = 97) podemos contrastar nuestro estadístico contra el valor de una N(0,1). Para un α=0.05, tenemos que:"
   ]
  },
  {
   "cell_type": "code",
   "execution_count": 28,
   "metadata": {},
   "outputs": [
    {
     "name": "stdout",
     "output_type": "stream",
     "text": [
      "[1] 1.959964\n"
     ]
    }
   ],
   "source": [
    "alpha = 0.05\n",
    "z_alpha = qnorm(1-alpha/2) #Como es un test de dos colas dividimos alpha en dos\n",
    "print(z_alpha)"
   ]
  },
  {
   "cell_type": "markdown",
   "metadata": {},
   "source": [
    "Luego, observamos que $|z|<z_{alpha}$, es decir, 1.116<1.96. Por lo cual, NO rechazamos la hipótesis nula de que la media de la tasa de incidencia diaria en Chile es igual a la tasa de incidencia diaria en Peru.\n",
    "\n",
    "2. Si analizamos el intervalo de confianza notamos que con un 95% de confianza podemos decir que la diferencia en la media de la tasa de incidencia diaria entre Chile y Peru se mueve en el rango de $[-12.794774,3.585972]$. Como este intervalo SI contiene al 0, entonces podemos afirmar que NO se rechaza la hipótesis nula.\n",
    "\n",
    "3. Finalmente si analizamos a traves de P-valor podemos notar que el obtenido $p−value=0.2673>α$ entonces a traves de este metodo tampoco podemos rechazar la hipótesis nula."
   ]
  },
  {
   "cell_type": "markdown",
   "metadata": {},
   "source": [
    "### Test 2: Argentina - Bolivia. Realizaremos el siguiente test."
   ]
  },
  {
   "cell_type": "markdown",
   "metadata": {},
   "source": [
    "$$H_{0}: \\bar{X}_{Arg} = \\bar{X}_{Bol}\\\\\n",
    "  H_{A}: \\bar{X}_{Arg} \\neq \\bar{X}_{Bol}$$"
   ]
  },
  {
   "cell_type": "markdown",
   "metadata": {},
   "source": [
    "Hacemos un diagrama de caja para visualizar los datos a estudiar en el test de diferencia de medias"
   ]
  },
  {
   "cell_type": "code",
   "execution_count": 29,
   "metadata": {},
   "outputs": [
    {
     "data": {
      "image/png": "[encoded data removed]",
      "text/plain": [
       "plot without title"
      ]
     },
     "metadata": {
      "image/png": {
       "height": 420,
       "width": 420
      }
     },
     "output_type": "display_data"
    }
   ],
   "source": [
    "ggplot(data = df_final[df_final$Pais == \"Argentina\" | df_final$Pais=='Bolivia',], aes(x= Pais, y= Tasa_Incidencia, color = Pais)) + \n",
    "  geom_boxplot() +\n",
    "  theme_bw()"
   ]
  },
  {
   "cell_type": "markdown",
   "metadata": {},
   "source": [
    "Utilizamos la función t.test"
   ]
  },
  {
   "cell_type": "code",
   "execution_count": 30,
   "metadata": {},
   "outputs": [
    {
     "data": {
      "text/plain": [
       "\n",
       "\tTwo Sample t-test\n",
       "\n",
       "data:  df_final[df_final$Pais == \"Argentina\", ]$Tasa_Incidencia and df_final[df_final$Pais == \"Bolivia\", ]$Tasa_Incidencia\n",
       "t = 1.6796, df = 93, p-value = 0.0964\n",
       "alternative hypothesis: true difference in means is not equal to 0\n",
       "95 percent confidence interval:\n",
       " -0.1420672  1.7003860\n",
       "sample estimates:\n",
       "mean of x mean of y \n",
       " 2.626322  1.847163 \n"
      ]
     },
     "metadata": {},
     "output_type": "display_data"
    }
   ],
   "source": [
    "t.test(x = df_final[df_final$Pais == \"Argentina\",]$Tasa_Incidencia,\n",
    "       y = df_final[df_final$Pais == \"Bolivia\", ]$Tasa_Incidencia,\n",
    "       alternative = \"two.sided\", mu = 0, var.equal = TRUE, conf.level = 0.95)"
   ]
  },
  {
   "cell_type": "markdown",
   "metadata": {},
   "source": [
    "Con los valores obtenidos podemos concluir segun los 3 principios:\n",
    "\n",
    "1. Podemos ver que el valor del estadistico en valor absouto es z = 1.6796, como tenemos un n grande (df = 95) podemos contrastar nuestro estadístico contra el valor de una N(0,1). Para un α=0.05, tenemos que:"
   ]
  },
  {
   "cell_type": "code",
   "execution_count": 31,
   "metadata": {},
   "outputs": [
    {
     "name": "stdout",
     "output_type": "stream",
     "text": [
      "[1] 1.959964\n"
     ]
    }
   ],
   "source": [
    "alpha = 0.05\n",
    "z_alpha = qnorm(1-alpha/2) #Como es un test de dos colas dividimos alpha en dos\n",
    "print(z_alpha)"
   ]
  },
  {
   "cell_type": "markdown",
   "metadata": {},
   "source": [
    "Luego, observamos que $z<z_{alpha}$, es decir, 1.6796<1.96. Por lo cual, NO rechazamos la hipótesis nula de que la media de la tasa de incidencia diaria en Argentina es igual a la tasa de incidencia diaria en Bolivia.\n",
    "\n",
    "2. Si analizamos el intervalo de confianza notamos que con un 95% de confianza podemos decir que la diferencia en la media de la tasa de incidencia diaria entre Argentina y Bolivia se mueve en el rango de $[-0.142067 ,1.7003860]$. Como este intervalo SI contiene al 0, entonces podemos afirmar que NO se rechaza la hipótesis nula.\n",
    "\n",
    "3. Finalmente si analizamos a traves de P-valor podemos notar que el obtenido $p−value=0.0964>α$ entonces a traves de este metodo tampoco podemos rechazar la hipótesis nula."
   ]
  },
  {
   "cell_type": "markdown",
   "metadata": {},
   "source": [
    "### Conclusiones"
   ]
  },
  {
   "cell_type": "markdown",
   "metadata": {},
   "source": [
    "Como conclusion de ambos test de hipoteis se puede afirmar que la diferencia entre las medias de las tasas de incidencia acumulada entre Chile - Peru y Argentina - Bolivia no son estadísticamente significativas, por lo que se concluye que con un 95% de confianza las medias de las tasas de incidencia acumulada entre Chile y Peru son iguales, de la misma forma en que ocurre entre Argentina y Bolivia. "
   ]
  },
  {
   "cell_type": "code",
   "execution_count": 32,
   "metadata": {},
   "outputs": [
    {
     "data": {
      "image/png": "[encoded data removed]",
      "text/plain": [
       "Plot with title \"Q-Q Plot TI Bolivia\""
      ]
     },
     "metadata": {
      "image/png": {
       "height": 420,
       "width": 420
      }
     },
     "output_type": "display_data"
    }
   ],
   "source": [
    "par(mfcol=c(2,2))\n",
    "qqnorm(df_chi$Tasa_Incidencia, pch = 1 , frame = FALSE,main='Q-Q Plot TI Chile') \n",
    "qqline(df_chi$Tasa_Incidencia, col = \"steelblue\", lwd = 2)\n",
    "\n",
    "qqnorm(df_per$Tasa_Incidencia, pch = 1 , frame = FALSE,main='Q-Q Plot TI Perú')\n",
    "qqline(df_per$Tasa_Incidencia, col = \"steelblue\", lwd = 2)\n",
    "\n",
    "qqnorm(df_arg$Tasa_Incidencia, pch = 1 , frame = FALSE,main='Q-Q Plot TI Argentina')\n",
    "qqline(df_arg$Tasa_Incidencia, col = \"steelblue\", lwd = 2)\n",
    "\n",
    "qqnorm(df_bol$Tasa_Incidencia, pch = 1 , frame = FALSE,main='Q-Q Plot TI Bolivia')\n",
    "qqline(df_bol$Tasa_Incidencia, col = \"steelblue\", lwd = 2)\n"
   ]
  },
  {
   "cell_type": "markdown",
   "metadata": {},
   "source": [
    "Anteriormente, para poder realizar los test de hipótesis hicimos el supuesto de que la variable, en este caso la tasa de incidencia acumulada se comportaba de forma normal.\n",
    "\n",
    "Podemos observar en los QQ-plots que las variables utilizadas anteriormente no tienden a comportarse como una normal, ya que los puntos no se ajustan a la recta teórica de distribución normal, desde la perspectiva de los cuartiles. Por lo tanto las conclusiones obtenidas bajo los test de hipótesis están sesgadas bajo esta información adicional, ya que, efectivamente no existe un comportamiento normal de parte de la variable. De igual forma, para estar más seguro de esto se podrían aplicar test de normalidad a la tasa de inciencia acumulada para comprobar más en profunidad las conclusiones.\n",
    "\n",
    "Además, se pudo observar en los diagramas de cajas de las tasas de incidencia, una variabilidad no menor de los datos, lo que nos puede llevar de forma no muy certera a considerar que no son significativas las diferencias.\n"
   ]
  },
  {
   "cell_type": "markdown",
   "metadata": {},
   "source": [
    "### Pregunta 2.2"
   ]
  },
  {
   "cell_type": "markdown",
   "metadata": {},
   "source": [
    "### Test de diferencia de proporciones"
   ]
  },
  {
   "cell_type": "markdown",
   "metadata": {},
   "source": [
    "Buscamos realizar dos test de diferencia de proporciones para la tasa de mortalidad entre Chile-Peru y Argentina-Bolivia a un nivel de significancia del 95%. Para ello definiremos primero la tasa de mortalidad acumulada como el cociente entre fallecidos y poblacion total por cada 100.000 habitantes, la cual se encuentra en su forma acumulada en la ultima columna de nuestro Data frame."
   ]
  },
  {
   "cell_type": "markdown",
   "metadata": {},
   "source": [
    "Calculamos la media y la desviación estándar de la tasa de mortalidad acumulada por cada país"
   ]
  },
  {
   "cell_type": "code",
   "execution_count": 33,
   "metadata": {},
   "outputs": [
    {
     "data": {
      "text/html": [
       "<table>\n",
       "<caption>A tibble: 4 × 3</caption>\n",
       "<thead>\n",
       "\t<tr><th scope=col>Pais</th><th scope=col>mean_mortalidad</th><th scope=col>std_mortalidad</th></tr>\n",
       "\t<tr><th scope=col>&lt;fct&gt;</th><th scope=col>&lt;dbl&gt;</th><th scope=col>&lt;dbl&gt;</th></tr>\n",
       "</thead>\n",
       "<tbody>\n",
       "\t<tr><td>Argentina</td><td>0.1069711</td><td>0.1195655</td></tr>\n",
       "\t<tr><td>Bolivia  </td><td>0.1135283</td><td>0.1263523</td></tr>\n",
       "\t<tr><td>Chile    </td><td>0.2122184</td><td>0.2797539</td></tr>\n",
       "\t<tr><td>Peru     </td><td>0.3981049</td><td>0.5451754</td></tr>\n",
       "</tbody>\n",
       "</table>\n"
      ],
      "text/latex": [
       "A tibble: 4 × 3\n",
       "\\begin{tabular}{lll}\n",
       " Pais & mean\\_mortalidad & std\\_mortalidad\\\\\n",
       " <fct> & <dbl> & <dbl>\\\\\n",
       "\\hline\n",
       "\t Argentina & 0.1069711 & 0.1195655\\\\\n",
       "\t Bolivia   & 0.1135283 & 0.1263523\\\\\n",
       "\t Chile     & 0.2122184 & 0.2797539\\\\\n",
       "\t Peru      & 0.3981049 & 0.5451754\\\\\n",
       "\\end{tabular}\n"
      ],
      "text/markdown": [
       "\n",
       "A tibble: 4 × 3\n",
       "\n",
       "| Pais &lt;fct&gt; | mean_mortalidad &lt;dbl&gt; | std_mortalidad &lt;dbl&gt; |\n",
       "|---|---|---|\n",
       "| Argentina | 0.1069711 | 0.1195655 |\n",
       "| Bolivia   | 0.1135283 | 0.1263523 |\n",
       "| Chile     | 0.2122184 | 0.2797539 |\n",
       "| Peru      | 0.3981049 | 0.5451754 |\n",
       "\n"
      ],
      "text/plain": [
       "  Pais      mean_mortalidad std_mortalidad\n",
       "1 Argentina 0.1069711       0.1195655     \n",
       "2 Bolivia   0.1135283       0.1263523     \n",
       "3 Chile     0.2122184       0.2797539     \n",
       "4 Peru      0.3981049       0.5451754     "
      ]
     },
     "metadata": {},
     "output_type": "display_data"
    }
   ],
   "source": [
    "df_final %>% \n",
    "  group_by(Pais) %>% \n",
    "  summarize(mean_mortalidad= mean(Tasa_Mortalidad),\n",
    "            std_mortalidad = sd(Tasa_Mortalidad))"
   ]
  },
  {
   "cell_type": "markdown",
   "metadata": {},
   "source": [
    "### Test 1: Chile - Perú"
   ]
  },
  {
   "cell_type": "markdown",
   "metadata": {},
   "source": [
    "Para el test de proporciones de Chile y Perú, vamos a comparar la tasa de mortalidad cada 100.000 habitantes, que es equivalente, a la proporción de fallecidos sobre la población cada 100.000 habitantes."
   ]
  },
  {
   "cell_type": "markdown",
   "metadata": {},
   "source": [
    "Trabajamos con la tasa de mortalidad por país"
   ]
  },
  {
   "cell_type": "code",
   "execution_count": 34,
   "metadata": {},
   "outputs": [
    {
     "name": "stdout",
     "output_type": "stream",
     "text": [
      "[1] \"n Chile:  51\"\n",
      "[1] \"n Peru:  48\"\n"
     ]
    }
   ],
   "source": [
    "m_chi <-  df_chi$Tasa_Mortalidad\n",
    "m_per <-  df_per$Tasa_Mortalidad\n",
    "\n",
    "n_chi <- length(m_chi)\n",
    "n_per <- length(m_per)\n",
    "\n",
    "print(paste(\"n Chile: \", n_chi))\n",
    "print(paste(\"n Peru: \", n_per))"
   ]
  },
  {
   "cell_type": "markdown",
   "metadata": {},
   "source": [
    "## El test que realizaremos es el siguiente:\n"
   ]
  },
  {
   "cell_type": "markdown",
   "metadata": {},
   "source": [
    "$$\n",
    "\\left\\{\n",
    "\\begin{array}{ll}\n",
    "H_{0}: &  p_{chi}=p_{per}\\\\\n",
    "H_{A}: & p_{chi}\\neq p_{per}\n",
    "\\end{array}\n",
    "\\right.\n",
    "$$"
   ]
  },
  {
   "cell_type": "markdown",
   "metadata": {},
   "source": [
    "El estadístico que necesitamos construir para el test es:\n",
    "$$\n",
    "Z = \\frac{\\hat{p}_{chi} - \\hat{p}_{per}}{\\sqrt{Var(\\hat{p}_{chi} - \\hat{p}_{per})}}\n",
    "$$"
   ]
  },
  {
   "cell_type": "markdown",
   "metadata": {},
   "source": [
    "Y bajo la hipótesis nula, la varianza de la diferencia de proporciones es:\n",
    "$$\n",
    " Var(\\hat{p}_{chi} - \\hat{p}_{per})= \\hat{p}_{chi}(100000-\\hat{p}_{per})(\\frac{1}{n_{chi}}+\\frac{1}{n_{per}})\n",
    "$$"
   ]
  },
  {
   "cell_type": "markdown",
   "metadata": {},
   "source": [
    "Este resultado los obtenemos bajo $H_{0}$, donde se supone que $\\hat{p}_{chi}=\\hat{p}_{per} = \\hat{p}$, por lo que $\\hat{p}$ lo estimamos como:\n",
    "\n",
    "\\begin{equation*}\n",
    "    \\hat{p} = 100.000 \\cdot \\frac{X_{chi}+X_{per}}{n_{chi}+n_{per}}\n",
    "\\end{equation*}"
   ]
  },
  {
   "cell_type": "markdown",
   "metadata": {},
   "source": [
    "Obs:\n",
    "- $\\hat{P}_{per} = 1-\\hat{P}_{chi}$, pero como estamos considerando la tasa de mortalidad cada 100.000 habitantes, se tiene $\\hat{P}_{per} = 100000-\\hat{P}_{chi}$\n",
    "- $X_{chi},X_{per}$ = Cantidad de fallecidos en cada país"
   ]
  },
  {
   "cell_type": "code",
   "execution_count": 35,
   "metadata": {},
   "outputs": [
    {
     "name": "stdout",
     "output_type": "stream",
     "text": [
      "[1] \"P_chi:  0.894219487715017\"\n",
      "[1] \"P_per:  1.97314776200228\"\n"
     ]
    }
   ],
   "source": [
    "p_chi <- tail(df_chi$Tasa_Mortalidad,n=1)\n",
    "n_chi <- pob_chi\n",
    "\n",
    "p_per <- tail(df_per$Tasa_Mortalidad,n=1)\n",
    "n_per <- pob_per\n",
    "\n",
    "print(paste('P_chi: ',p_chi))\n",
    "print(paste('P_per: ',p_per))"
   ]
  },
  {
   "cell_type": "markdown",
   "metadata": {},
   "source": [
    "* $\\hat{P}_{chi}$ = 0.894 fallecidos por 100.000 habitantes\n",
    "* $\\hat{P}_{per}$ = 1.973 fallecidos por 100.000 habitantes"
   ]
  },
  {
   "cell_type": "markdown",
   "metadata": {},
   "source": [
    "Calculemos entonces $\\hat{p}$ con los datos que poseemos:"
   ]
  },
  {
   "cell_type": "code",
   "execution_count": 36,
   "metadata": {},
   "outputs": [
    {
     "name": "stdout",
     "output_type": "stream",
     "text": [
      "[1] \"P_hat:  1.56620380304522\"\n"
     ]
    }
   ],
   "source": [
    "x_chi <- tail(df_chi$Muertos,n=1)\n",
    "x_per <- tail(df_per$Muertos,n=1)\n",
    "\n",
    "p_hat <- 100000*((x_chi+x_per)/(n_chi+n_per))\n",
    "print(paste('P_hat: ',p_hat))"
   ]
  },
  {
   "cell_type": "markdown",
   "metadata": {},
   "source": [
    "Luego, la desviación estándar para el estadístico es:"
   ]
  },
  {
   "cell_type": "code",
   "execution_count": 37,
   "metadata": {},
   "outputs": [
    {
     "name": "stdout",
     "output_type": "stream",
     "text": [
      "[1] \"SE de p_hat:  0.113680217550699\"\n"
     ]
    }
   ],
   "source": [
    "SE_p <- sqrt(p_hat*(100000-p_hat)*((1/n_chi)+(1/n_per)))\n",
    "print(paste(\"SE de p_hat: \", SE_p))"
   ]
  },
  {
   "cell_type": "markdown",
   "metadata": {},
   "source": [
    "Entonces, el valor de nuestro estadístico es de:"
   ]
  },
  {
   "cell_type": "code",
   "execution_count": 38,
   "metadata": {},
   "outputs": [
    {
     "name": "stdout",
     "output_type": "stream",
     "text": [
      "[1] \"Z :  -9.49090613594301\"\n"
     ]
    }
   ],
   "source": [
    "Z <- (p_chi-p_per)/SE_p\n",
    "print(paste(\"Z : \", Z))"
   ]
  },
  {
   "cell_type": "code",
   "execution_count": 39,
   "metadata": {},
   "outputs": [
    {
     "name": "stdout",
     "output_type": "stream",
     "text": [
      "[1] \"n_chi: 19458310\"\n",
      "[1] \"n_per: 32131400\"\n"
     ]
    }
   ],
   "source": [
    "print(paste('n_chi:',n_chi))\n",
    "print(paste('n_per:',n_per))"
   ]
  },
  {
   "cell_type": "markdown",
   "metadata": {},
   "source": [
    "Como tenemos un n grande, dado que estamos considerando la población podemos contrastar nuestro estadístico contra el valor de una $\\mathcal{N}$(0,1). Para un α=0.05, tenemos que:"
   ]
  },
  {
   "cell_type": "code",
   "execution_count": 40,
   "metadata": {},
   "outputs": [
    {
     "name": "stdout",
     "output_type": "stream",
     "text": [
      "[1] \"Z_alpha : 1.95996398454005\"\n"
     ]
    }
   ],
   "source": [
    "alpha = 0.05\n",
    "z_alpha = qnorm(1- alpha/2)\n",
    "print(paste(\"Z_alpha :\", z_alpha))"
   ]
  },
  {
   "cell_type": "markdown",
   "metadata": {},
   "source": [
    "Observamos que $|Z|>Z_{alpha}$ por lo cual existe evidencia estadística que permite rechazar la hipótesis nula de que la tasa de mortalidad sea igual entre Chile y Perú. En otras palabras, existen diferencias significativas de la tasa de mortalidad entre Chile y Perú."
   ]
  },
  {
   "cell_type": "markdown",
   "metadata": {},
   "source": [
    "### Test 2: Argentina - Bolivia"
   ]
  },
  {
   "cell_type": "markdown",
   "metadata": {},
   "source": [
    "Análogo al test anterior, planteamos el mismo procedimiento."
   ]
  },
  {
   "cell_type": "markdown",
   "metadata": {},
   "source": [
    "$$\n",
    "\\left\\{\n",
    "\\begin{array}{ll}\n",
    "H_{0}: &  p_{arg}=p_{bol}\\\\\n",
    "H_{A}: & p_{arg}\\neq p_{bol}\n",
    "\\end{array}\n",
    "\\right.\n",
    "$$"
   ]
  },
  {
   "cell_type": "markdown",
   "metadata": {},
   "source": [
    "El estadístico que necesitamos construir para el test es:\n",
    "$$\n",
    "Z = \\frac{\\hat{p}_{arg} - \\hat{p}_{bol}}{\\sqrt{Var(\\hat{p}_{arg} - \\hat{p}_{bol})}}\n",
    "$$"
   ]
  },
  {
   "cell_type": "markdown",
   "metadata": {},
   "source": [
    "Y bajo la hipótesis nula, la varianza de la diferencia de proporciones es:\n",
    "$$\n",
    " Var(\\hat{p}_{arg} - \\hat{p}_{bol})= \\hat{p}_{arg}(100000-\\hat{p}_{bol})(\\frac{1}{n_{chi}}+\\frac{1}{n_{bol}})\n",
    "$$"
   ]
  },
  {
   "cell_type": "markdown",
   "metadata": {},
   "source": [
    "Este resultad\n",
    "o los obtenemos bajo $H_{0}$, donde se supone que $\\hat{p}_{arg}=\\hat{p}_{bol} = \\hat{p}$, por lo que $\\hat{p}$ lo estimamos como:\n",
    "\n",
    "\\begin{equation*}\n",
    "    \\hat{p} = 100.000 \\cdot \\frac{X_{arg}+X_{bol}}{n_{arg}+n_{bol}}\n",
    "\\end{equation*}"
   ]
  },
  {
   "cell_type": "markdown",
   "metadata": {},
   "source": [
    "Obs: $\\hat{P}_{arg} = 1-\\hat{P}_{bol}$, pero como estamos considerando la tasa de mortalidad cada 100.000 habitantes, se tiene $\\hat{P}_{arg} = 100000-\\hat{P}_{bol}$"
   ]
  },
  {
   "cell_type": "code",
   "execution_count": 41,
   "metadata": {},
   "outputs": [
    {
     "name": "stdout",
     "output_type": "stream",
     "text": [
      "[1] \"P_arg:  0.387863717824033\"\n",
      "[1] \"P_bol:  0.392296718972896\"\n"
     ]
    }
   ],
   "source": [
    "p_arg <- tail(df_arg$Tasa_Mortalidad,n=1)\n",
    "n_arg <- pob_arg\n",
    "\n",
    "p_bol <- tail(df_bol$Tasa_Mortalidad,n=1)\n",
    "n_bol <- pob_bol\n",
    "\n",
    "print(paste('P_arg: ',p_arg))\n",
    "print(paste('P_bol: ',p_bol))"
   ]
  },
  {
   "cell_type": "markdown",
   "metadata": {},
   "source": [
    "* $\\hat{P}_{arg}$ = 0.388 fallecidos por 100.000 habitantes\n",
    "* $\\hat{P}_{bol}$ = 0.392 fallecidos por 100.000 habitantes"
   ]
  },
  {
   "cell_type": "markdown",
   "metadata": {},
   "source": [
    "Calculemos entonces $\\hat{p}$ con los datos que poseemos:"
   ]
  },
  {
   "cell_type": "code",
   "execution_count": 42,
   "metadata": {},
   "outputs": [
    {
     "name": "stdout",
     "output_type": "stream",
     "text": [
      "[1] \"P_hat2:  0.388742284945515\"\n"
     ]
    }
   ],
   "source": [
    "x_arg <- tail(df_arg$Muertos,n=1) #Cantidad fallecidos argentina\n",
    "x_bol <- tail(df_bol$Muertos,n=1) #Cantidad fallecidos bolivia\n",
    "\n",
    "p_hat2 <- 100000*((x_arg+x_bol)/(n_arg+n_bol))\n",
    "\n",
    "print(paste('P_hat2: ',p_hat2))"
   ]
  },
  {
   "cell_type": "markdown",
   "metadata": {},
   "source": [
    "Luego, la desviación estándar para el estadístico es:"
   ]
  },
  {
   "cell_type": "code",
   "execution_count": 43,
   "metadata": {},
   "outputs": [
    {
     "name": "stdout",
     "output_type": "stream",
     "text": [
      "[1] \"SE de p_hat:  0.0657468181933669\"\n"
     ]
    }
   ],
   "source": [
    "SE_p2 <- sqrt((p_hat2*(100000-p_hat2))*((1/n_arg) + (1/n_bol)))\n",
    "print(paste(\"SE de p_hat: \", SE_p2))"
   ]
  },
  {
   "cell_type": "markdown",
   "metadata": {},
   "source": [
    "Entonces, el valor de nuestro estadístico es de:"
   ]
  },
  {
   "cell_type": "code",
   "execution_count": 44,
   "metadata": {},
   "outputs": [
    {
     "name": "stdout",
     "output_type": "stream",
     "text": [
      "[1] \"Z :  -0.0674253335853528\"\n"
     ]
    }
   ],
   "source": [
    "Z2 <- (p_arg-p_bol)/SE_p2\n",
    "print(paste(\"Z : \", Z2))"
   ]
  },
  {
   "cell_type": "code",
   "execution_count": 45,
   "metadata": {},
   "outputs": [
    {
     "name": "stdout",
     "output_type": "stream",
     "text": [
      "[1] \"n_arg: 45376763\"\n",
      "[1] \"n_bol: 11216000\"\n"
     ]
    }
   ],
   "source": [
    "print(paste('n_arg:',n_arg))\n",
    "print(paste('n_bol:',n_bol))"
   ]
  },
  {
   "cell_type": "markdown",
   "metadata": {},
   "source": [
    "Como tenemos un n grande, dado que estamos considerando la población podemos contrastar nuestro estadístico contra el valor de una $\\mathcal{N}$(0,1). Para un α=0.05, tenemos que:"
   ]
  },
  {
   "cell_type": "code",
   "execution_count": 46,
   "metadata": {},
   "outputs": [
    {
     "name": "stdout",
     "output_type": "stream",
     "text": [
      "[1] \"Z_alpha : 1.95996398454005\"\n"
     ]
    }
   ],
   "source": [
    "alpha = 0.05\n",
    "z_alpha = qnorm(1 - alpha/2)\n",
    "print(paste(\"Z_alpha :\", z_alpha))"
   ]
  },
  {
   "cell_type": "markdown",
   "metadata": {},
   "source": [
    "Observamos que $|Z|\\ngeqslant Z_{alpha}$, por lo cual NO existe evidencia estadística que nos permita rechazar la hipótesis nula, de que la tasa de mortalidad entre Argentina y Bolivia sean iguales. En otras palabras no es posible concluir que exista una diferencia de proporcion de fallecidos cada 100.000 habitantes entre Argentina y Bolivia."
   ]
  },
  {
   "cell_type": "markdown",
   "metadata": {},
   "source": [
    "## Conclusiones"
   ]
  },
  {
   "cell_type": "code",
   "execution_count": 47,
   "metadata": {},
   "outputs": [
    {
     "data": {
      "image/png": "[encoded data removed]",
      "text/plain": [
       "plot without title"
      ]
     },
     "metadata": {
      "image/png": {
       "height": 420,
       "width": 420
      }
     },
     "output_type": "display_data"
    }
   ],
   "source": [
    "grap <- ggplot(df_final) + geom_line(aes(x =Fecha, y = Tasa_Mortalidad, col = Pais), size=1, alpha = 1) + \n",
    "                                                                                    ggtitle(\"Tasa de mortalidad acumulada cada 100.000 habitantes\") + theme_bw()\n",
    "grap"
   ]
  },
  {
   "cell_type": "markdown",
   "metadata": {},
   "source": [
    "Con respecto al test de proporciones entre Chile y Perú, es de esperarse la diferencia entre la proprorción de fallecidos cada 100.000 habitantes. Se puede observar en el gráfico de arriba que la tasa de mortalidad de Perú desde abril ha comenzado un aumento mucho mas fuerte que Chile, lo que efectivamente conlleva a una mayor cifra de fallecidos. Además Chile posee una diferencia considerable de habitantes con respecto a Perú lo que influencia directamente el cálculo de la proporción.\n",
    "\n",
    "Con respecto al test de proporciones entre Argentina y Bolivia, es de esperarse que no exista una diferenia significativa entre la tasa de mortalidad de ambos países. Asimismo se puede observar en el gráfico de arriba que el comportamiento de sus tasas es muy similar. Como se sabe Argentina tiene mas de 4 veces la población de Bolivia lo que indica que efectivamente Argentina, lamentablemente ha precentado una mayor cantidad de decesos con respecto a Bolivia. También con respecto a la evolución de contagios, Argentina presenta más confirmados que Bolivia, lo que puede explicar en parte esta proporción. \n",
    "\n",
    "Además es sabido que no todos los países consideran de igual forma un deceso producto de Coronavirus, por lo que puede existir un sesgo importante en la cantidad de fallecidos por los países y en este caso no se esta considerando esta información. Asimismo realizamos ambos test bajo el supuesto de que los fallecidos venian de la misma muestra, lo que en la practica no es así, ya que estamos comparando naciones distintas, lo que sesga aún más la información."
   ]
  },
  {
   "cell_type": "markdown",
   "metadata": {},
   "source": [
    "### Test de ANOVA para la Tasa de Incidencia"
   ]
  },
  {
   "cell_type": "markdown",
   "metadata": {},
   "source": [
    "Realizaremos un test ANOVA de una via para comparar la media de la Tasa de Incidencia Acumulada de los 4 paises escogidos.\n",
    "\n",
    "Para comenzar visualizemos los datos con un gráfico de boxplot ajustandolos a la misma cantidad de muestras por pais (45 muestras)\n"
   ]
  },
  {
   "cell_type": "code",
   "execution_count": 48,
   "metadata": {},
   "outputs": [
    {
     "data": {
      "image/png": "[encoded data removed]",
      "text/plain": [
       "plot without title"
      ]
     },
     "metadata": {
      "image/png": {
       "height": 420,
       "width": 420
      }
     },
     "output_type": "display_data"
    }
   ],
   "source": [
    "df_anova <- df_final[df_final$Dias < 46, ]\n",
    "ggplot(data = df_anova, aes(x= Pais, y= Tasa_Incidencia, color = Pais)) + \n",
    "  geom_boxplot() +\n",
    "  theme_bw()"
   ]
  },
  {
   "cell_type": "markdown",
   "metadata": {},
   "source": [
    "A priori esperariamos encontrar diferencias entre las medias, ya que como se Observa Chile posee una media mucho mayor al resto de países."
   ]
  },
  {
   "cell_type": "markdown",
   "metadata": {},
   "source": [
    "Compararemos las medias de las Tasas de Incidencia acumuladas en estos 4 Paises. Por lo cual en este caso $I=4$. Y para cada categoría tenemos 45 observaciones. Entonces $J=45$. Recordemos que el modelo de ANOVA es el siguiente:\n",
    "$$\n",
    "Y_{ij}=μ+α_{i}+ϵ_{ij}\n",
    "$$"
   ]
  },
  {
   "cell_type": "markdown",
   "metadata": {},
   "source": [
    "Donde $Y_{ij}$ es la observación de la persona $j$ en el grupo $i$, $μ$ es la media poblacional de donde provienen todas las observaciones, $α_{i}$ es el efecto que existe por pertenecer al grupo $i$ y en $ϵ_{ij}$ dejamos todo aquello que no podemos observar, toda la variabilidad entre las observaciones que no es explicada por los factores de nuestro modelo (es un error aleatorio)."
   ]
  },
  {
   "cell_type": "code",
   "execution_count": 49,
   "metadata": {},
   "outputs": [
    {
     "data": {
      "text/plain": [
       "               Df Sum Sq Mean Sq F value   Pr(>F)    \n",
       "df_anova$Pais   3   6065  2021.8   14.88 1.13e-08 ***\n",
       "Residuals     176  23922   135.9                     \n",
       "---\n",
       "Signif. codes:  0 '***' 0.001 '**' 0.01 '*' 0.05 '.' 0.1 ' ' 1"
      ]
     },
     "metadata": {},
     "output_type": "display_data"
    }
   ],
   "source": [
    "anova_df <- aov(df_anova$Tasa_Incidencia~df_anova$Pais)\n",
    "summary(anova_df)"
   ]
  },
  {
   "cell_type": "markdown",
   "metadata": {},
   "source": [
    "De lo anterior podemos extraer lo siguiente:\n",
    "\n",
    "$>$El valor de SSB es 6065\n",
    "\n",
    "$>$El estimador insesgado de la varianza intergrupo es 2152.7\n",
    "\n",
    "$>$El valor de SSW es 23922\n",
    "\n",
    "$>$El estimador insesgado de la varianza intragrupo es 135.9\n",
    "\n",
    "Con estos valores, se construye el estadístico del test, el cual es:\n",
    "$$\n",
    "F=\\frac{SSB/(I - 1)}{SSW/I(J-1)}=14.88\n",
    "$$"
   ]
  },
  {
   "cell_type": "markdown",
   "metadata": {},
   "source": [
    "Ademas, se nos entrega el p-valor del test de hipotesis, el cual es $1.13*10^{-8}$ valor que se aproxima a cero, por lo tanto a un nivel de significancia del $5\\%$ se $rechaza$ la hipotesis nula del ANOVA, esto quiere decir que $\\textbf{AL MENOS UNA DE LAS MEDIAS}$ es distinta de las otras significativamente y por lo observado en el grafico de boxplot se puede deducir que al menos es la de Chile y potencialmente la de Peru tambien.\n",
    "\n",
    "Para comprobar lo anterior, considerando ademas que la realizacion del test de diferencia de medias entre Argentina y Bolivia no fue rechazado ni tampoco el test entre Chile y Peru, realizaremos un test de diferencia de medias entre Bolivia y Chile y otro entre Peru y Argentina."
   ]
  },
  {
   "cell_type": "markdown",
   "metadata": {},
   "source": [
    "Test de diferencia de medias de la tasa de incidencia acumulada entre Bolivia y Chile:\n",
    "$$H_{0}: \\bar{X}_{Bol} = \\bar{X}_{Chi}\\\\\n",
    "  H_{A}: \\bar{X}_{Bol} \\neq \\bar{X}_{Chi}$$"
   ]
  },
  {
   "cell_type": "code",
   "execution_count": 50,
   "metadata": {},
   "outputs": [
    {
     "data": {
      "text/plain": [
       "\n",
       "\tTwo Sample t-test\n",
       "\n",
       "data:  df_final[df_final$Pais == \"Bolivia\", ]$Tasa_Incidencia and df_final[df_final$Pais == \"Chile\", ]$Tasa_Incidencia\n",
       "t = -5.8692, df = 94, p-value = 6.536e-08\n",
       "alternative hypothesis: true difference in means is not equal to 0\n",
       "95 percent confidence interval:\n",
       " -24.0815 -11.9068\n",
       "sample estimates:\n",
       "mean of x mean of y \n",
       " 1.847163 19.841314 \n"
      ]
     },
     "metadata": {},
     "output_type": "display_data"
    }
   ],
   "source": [
    "t.test(x = df_final[df_final$Pais == \"Bolivia\",]$Tasa_Incidencia,\n",
    "       y = df_final[df_final$Pais == \"Chile\", ]$Tasa_Incidencia,\n",
    "       alternative = \"two.sided\", mu = 0, var.equal = TRUE, conf.level = 0.95)"
   ]
  },
  {
   "cell_type": "markdown",
   "metadata": {},
   "source": [
    "Efectivamente como tenemos un $p-value<\\alpha$ podemos rechazar la Hipótesis nula de que las medias de tasa de incidencia acumulada entre Bolivia y Chile sean iguales. Por lo que existe evidencia estadística que nos permiten decir que existe una diferencia significativa entre la media de tasa de incidencia entre Bolivia y Chile."
   ]
  },
  {
   "cell_type": "markdown",
   "metadata": {},
   "source": [
    "Ahora consideramos el siguiente test de diferencia de medias de tasa de incidencia acumulada.\n",
    "$$H_{0}: \\bar{X}_{Per} = \\bar{X}_{Arg}\\\\\n",
    "  H_{A}: \\bar{X}_{Per} \\neq \\bar{X}_{Arg}$$"
   ]
  },
  {
   "cell_type": "code",
   "execution_count": 51,
   "metadata": {},
   "outputs": [
    {
     "data": {
      "text/plain": [
       "\n",
       "\tTwo Sample t-test\n",
       "\n",
       "data:  df_final[df_final$Pais == \"Peru\", ]$Tasa_Incidencia and df_final[df_final$Pais == \"Argentina\", ]$Tasa_Incidencia\n",
       "t = 4.3024, df = 96, p-value = 4.067e-05\n",
       "alternative hypothesis: true difference in means is not equal to 0\n",
       "95 percent confidence interval:\n",
       "  6.792458 18.428723\n",
       "sample estimates:\n",
       "mean of x mean of y \n",
       "15.236913  2.626322 \n"
      ]
     },
     "metadata": {},
     "output_type": "display_data"
    }
   ],
   "source": [
    "t.test(x = df_final[df_final$Pais == \"Peru\",]$Tasa_Incidencia,\n",
    "       y = df_final[df_final$Pais == \"Argentina\", ]$Tasa_Incidencia,\n",
    "       alternative = \"two.sided\", mu = 0, var.equal = TRUE, conf.level = 0.95)"
   ]
  },
  {
   "cell_type": "markdown",
   "metadata": {},
   "source": [
    "De igual forma tenemos un $p-value<\\alpha$ por lo que podemos rechazar la hipótesis nula y podemos decir que existen diferencias significativas entre las medias de tasa de incidencia acumulada entre Perú y Argentina"
   ]
  },
  {
   "cell_type": "markdown",
   "metadata": {},
   "source": [
    "Por lo tanto se puede comprobar lo que concluimos gracias al test de ANOVA.\n",
    "\n",
    "Como vision general a los países testeados se tiene que Argentina es el país de la muestra con mayor capacidad de diversa índole en el área de salud (camas, médicos, ventiladores) y además con normas bastante restrictivas desde un comienzo para la población. También es importante considerar que su densidad poblacional es mucho menor que la de Chile y Perú. Además Perú ha sido el que ha tenido el mayor aumento explosivo de casos, por lo que es esperable la diferencia.\n",
    "\n",
    "En el caso de Bolivia influye la naturaleza del país. Su población es la menor dentro de los 4 países analizados, pero más importante aún, la densidad poblacional del país es la menor de todas. Lo anterior sumado a las medidas restrictivas tomadas drásticamente en el país han ayudado a que la media se su tasa de incidencia sea menor.Además, no podemos dejar de considerar por un lado las medidas y formas en que estas se han tomado en el caso de Chile (nombradas anteriormente) y la dificultad que ha traído el contexto de los ciudadanos peruanos para la aplicación de estas normas en el caso de Perú. \n",
    "\n",
    "Si bien todos los países testeados son vecinos y de culturas similares, las capacidades de sus sistemas de salud y el cómo se han enfrentado a las medidas sanitarias tiene una influencia importante en los datos, que en este caso no se están considerando y por tanto influyen en un sesgo de información."
   ]
  }
 ],
 "metadata": {
  "kernelspec": {
   "display_name": "R",
   "language": "R",
   "name": "ir"
  },
  "language_info": {
   "codemirror_mode": "r",
   "file_extension": ".r",
   "mimetype": "text/x-r-source",
   "name": "R",
   "pygments_lexer": "r",
   "version": "3.6.3"
  }
 },
 "nbformat": 4,
 "nbformat_minor": 4
}
