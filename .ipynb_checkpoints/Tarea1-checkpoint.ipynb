{
 "cells": [
  {
   "cell_type": "markdown",
   "metadata": {},
   "source": [
    "# Tarea 1"
   ]
  },
  {
   "cell_type": "markdown",
   "metadata": {},
   "source": [
    "# Pregunta 1"
   ]
  },
  {
   "cell_type": "markdown",
   "metadata": {},
   "source": [
    "### Pregunta 1.1"
   ]
  },
  {
   "cell_type": "markdown",
   "metadata": {},
   "source": [
    "El sistemde de Salud Argentino se fragmente en, Público, de la Seguridad Social y Privado.\n",
    "\n",
    "Según un informe de 2017, Argentina cuenta con 17.845 establecimientos asistenciales en total.\n",
    "\n",
    "En Argentina hay 4.5 Camas cada 1000 habitantes(Bolivia 1.1, Perú 1.5, Chile 2)\n",
    "\n",
    "Medidas Sanitarias más importantes tomadas por Argentina:\n",
    "\n",
    "1. 16/03/2020. Cierre de Fronteras\n",
    "2. 18/03/2020. Construcción de 12 Hospitales Modulares de Emergencia\n",
    "3. 19/03/2020. Aislamiento social, preventivo y obligatorio para toda la población\n",
    "4. 31/03/2020. Prórroga del aislamiento social, preventivo y obligatorio(hasta 12/04)\n",
    "5. 01/04/2020. Prórroga del cierre de fronteras, de la asistencia a argentinos en el exterior y repatriación paulatina+\n",
    "6. 26/04/2020. Prórroga del cierre de fronteras(hasta 10 de mayo)\n",
    "7. 10/05/2020. Prórroga del aislamiento hasta el 24 de mayo inclusive y nuevas excepciones\n"
   ]
  },
  {
   "cell_type": "markdown",
   "metadata": {},
   "source": [
    "## Pregunta 1.2"
   ]
  },
  {
   "cell_type": "markdown",
   "metadata": {},
   "source": [
    "Importamos las librerías a utilizar"
   ]
  },
  {
   "cell_type": "code",
   "execution_count": 52,
   "metadata": {},
   "outputs": [],
   "source": [
    "library(dplyr)\n",
    "library(ggplot2)\n",
    "library(tidyr)\n",
    "library(gridExtra)"
   ]
  },
  {
   "cell_type": "markdown",
   "metadata": {},
   "source": [
    "Definimos las variables de población para cada uno de los países escogidos"
   ]
  },
  {
   "cell_type": "code",
   "execution_count": 53,
   "metadata": {},
   "outputs": [],
   "source": [
    "pob_chi <- 18730000\n",
    "pob_chi_minsal <- 19458310\n",
    "pob_arg <- 44490000\n",
    "pob_bol <- 11350000\n",
    "pob_per <- 31990000"
   ]
  },
  {
   "cell_type": "markdown",
   "metadata": {},
   "source": [
    "Leemos los datos de contagiados, fallecidos y recuperado"
   ]
  },
  {
   "cell_type": "code",
   "execution_count": 54,
   "metadata": {},
   "outputs": [],
   "source": [
    "df_covid_time <- read.csv(\"time_series_covid19_confirmed_global.csv\",sep=\",\",check.names=FALSE)\n",
    "df_covid_deaths <- read.csv(\"time_series_covid19_deaths_global.csv\",sep=\",\",check.names=FALSE)\n",
    "df_covid_recovered <- read.csv(\"time_series_covid19_recovered_global.csv\",sep=\",\",check.names=FALSE)"
   ]
  },
  {
   "cell_type": "code",
   "execution_count": 55,
   "metadata": {},
   "outputs": [
    {
     "data": {
      "text/html": [
       "<table>\n",
       "<caption>A data.frame: 1 × 98</caption>\n",
       "<thead>\n",
       "\t<tr><th></th><th scope=col>Province/State</th><th scope=col>Country/Region</th><th scope=col>Lat</th><th scope=col>Long</th><th scope=col>1/22/20</th><th scope=col>1/23/20</th><th scope=col>1/24/20</th><th scope=col>1/25/20</th><th scope=col>1/26/20</th><th scope=col>1/27/20</th><th scope=col>...</th><th scope=col>4/15/20</th><th scope=col>4/16/20</th><th scope=col>4/17/20</th><th scope=col>4/18/20</th><th scope=col>4/19/20</th><th scope=col>4/20/20</th><th scope=col>4/21/20</th><th scope=col>4/22/20</th><th scope=col>4/23/20</th><th scope=col>4/24/20</th></tr>\n",
       "\t<tr><th></th><th scope=col>&lt;fct&gt;</th><th scope=col>&lt;fct&gt;</th><th scope=col>&lt;dbl&gt;</th><th scope=col>&lt;dbl&gt;</th><th scope=col>&lt;int&gt;</th><th scope=col>&lt;int&gt;</th><th scope=col>&lt;int&gt;</th><th scope=col>&lt;int&gt;</th><th scope=col>&lt;int&gt;</th><th scope=col>&lt;int&gt;</th><th scope=col>...</th><th scope=col>&lt;int&gt;</th><th scope=col>&lt;int&gt;</th><th scope=col>&lt;int&gt;</th><th scope=col>&lt;int&gt;</th><th scope=col>&lt;int&gt;</th><th scope=col>&lt;int&gt;</th><th scope=col>&lt;int&gt;</th><th scope=col>&lt;int&gt;</th><th scope=col>&lt;int&gt;</th><th scope=col>&lt;int&gt;</th></tr>\n",
       "</thead>\n",
       "<tbody>\n",
       "\t<tr><th scope=row>1</th><td></td><td>Afghanistan</td><td>33</td><td>65</td><td>0</td><td>0</td><td>0</td><td>0</td><td>0</td><td>0</td><td>...</td><td>784</td><td>840</td><td>906</td><td>933</td><td>996</td><td>1026</td><td>1092</td><td>1176</td><td>1279</td><td>1351</td></tr>\n",
       "</tbody>\n",
       "</table>\n"
      ],
      "text/latex": [
       "A data.frame: 1 × 98\n",
       "\\begin{tabular}{r|lllllllllllllllllllll}\n",
       "  & Province/State & Country/Region & Lat & Long & 1/22/20 & 1/23/20 & 1/24/20 & 1/25/20 & 1/26/20 & 1/27/20 & ... & 4/15/20 & 4/16/20 & 4/17/20 & 4/18/20 & 4/19/20 & 4/20/20 & 4/21/20 & 4/22/20 & 4/23/20 & 4/24/20\\\\\n",
       "  & <fct> & <fct> & <dbl> & <dbl> & <int> & <int> & <int> & <int> & <int> & <int> & ... & <int> & <int> & <int> & <int> & <int> & <int> & <int> & <int> & <int> & <int>\\\\\n",
       "\\hline\n",
       "\t1 &  & Afghanistan & 33 & 65 & 0 & 0 & 0 & 0 & 0 & 0 & ... & 784 & 840 & 906 & 933 & 996 & 1026 & 1092 & 1176 & 1279 & 1351\\\\\n",
       "\\end{tabular}\n"
      ],
      "text/markdown": [
       "\n",
       "A data.frame: 1 × 98\n",
       "\n",
       "| <!--/--> | Province/State &lt;fct&gt; | Country/Region &lt;fct&gt; | Lat &lt;dbl&gt; | Long &lt;dbl&gt; | 1/22/20 &lt;int&gt; | 1/23/20 &lt;int&gt; | 1/24/20 &lt;int&gt; | 1/25/20 &lt;int&gt; | 1/26/20 &lt;int&gt; | 1/27/20 &lt;int&gt; | ... ... | 4/15/20 &lt;int&gt; | 4/16/20 &lt;int&gt; | 4/17/20 &lt;int&gt; | 4/18/20 &lt;int&gt; | 4/19/20 &lt;int&gt; | 4/20/20 &lt;int&gt; | 4/21/20 &lt;int&gt; | 4/22/20 &lt;int&gt; | 4/23/20 &lt;int&gt; | 4/24/20 &lt;int&gt; |\n",
       "|---|---|---|---|---|---|---|---|---|---|---|---|---|---|---|---|---|---|---|---|---|---|\n",
       "| 1 | <!----> | Afghanistan | 33 | 65 | 0 | 0 | 0 | 0 | 0 | 0 | ... | 784 | 840 | 906 | 933 | 996 | 1026 | 1092 | 1176 | 1279 | 1351 |\n",
       "\n"
      ],
      "text/plain": [
       "  Province/State Country/Region Lat Long 1/22/20 1/23/20 1/24/20 1/25/20\n",
       "1                Afghanistan    33  65   0       0       0       0      \n",
       "  1/26/20 1/27/20 ... 4/15/20 4/16/20 4/17/20 4/18/20 4/19/20 4/20/20 4/21/20\n",
       "1 0       0       ... 784     840     906     933     996     1026    1092   \n",
       "  4/22/20 4/23/20 4/24/20\n",
       "1 1176    1279    1351   "
      ]
     },
     "metadata": {},
     "output_type": "display_data"
    }
   ],
   "source": [
    "head(df_covid_time,n=1)"
   ]
  },
  {
   "cell_type": "markdown",
   "metadata": {},
   "source": [
    "Seleccionamos la información de los países a estudiar"
   ]
  },
  {
   "cell_type": "code",
   "execution_count": 56,
   "metadata": {},
   "outputs": [],
   "source": [
    "df_chi <- df_covid_time[df_covid_time$\"Country/Region\"=='Chile',]\n",
    "df_chi_deaths <- df_covid_deaths[df_covid_deaths$\"Country/Region\"=='Chile',]\n",
    "df_chi_recovered <- df_covid_recovered[df_covid_recovered$\"Country/Region\"=='Chile',]\n",
    "\n",
    "df_arg <- df_covid_time[df_covid_time$\"Country/Region\"=='Argentina',]\n",
    "df_arg_deaths <-df_covid_deaths[df_covid_deaths$\"Country/Region\"=='Argentina',]\n",
    "df_arg_recovered <-df_covid_recovered[df_covid_recovered$\"Country/Region\"=='Argentina',]\n",
    "\n",
    "df_bol <- df_covid_time[df_covid_time$\"Country/Region\"=='Bolivia',]\n",
    "df_bol_deaths <-df_covid_deaths[df_covid_deaths$\"Country/Region\"=='Bolivia',]\n",
    "df_bol_recovered <-df_covid_recovered[df_covid_recovered$\"Country/Region\"=='Bolivia',]\n",
    "\n",
    "df_per <- df_covid_time[df_covid_time$\"Country/Region\"=='Peru',]\n",
    "df_per_deaths <-df_covid_deaths[df_covid_deaths$\"Country/Region\"=='Peru',]\n",
    "df_per_recovered <-df_covid_recovered[df_covid_recovered$\"Country/Region\"=='Peru',]"
   ]
  },
  {
   "cell_type": "markdown",
   "metadata": {},
   "source": [
    "Juntamos los países de interés en un sólo dataFrame"
   ]
  },
  {
   "cell_type": "markdown",
   "metadata": {},
   "source": [
    "Definimos la función sort_df, que recibe como entrada el dataFrame de contagiados, fallecidos y recuperados, y elimina las columnas que no nos interesan y traspone los datos, para que queden en forma vertical, con las columnas, fecha, muertos y recuperados"
   ]
  },
  {
   "cell_type": "code",
   "execution_count": 57,
   "metadata": {},
   "outputs": [],
   "source": [
    "sort_df <- function(df_c,df_d,df_r){\n",
    "    df_c <-select(df_c, -c(\"Province/State\",\"Lat\",\"Long\"))\n",
    "    df_d <- select(df_d, -c(\"Province/State\",\"Lat\",\"Long\"))\n",
    "    df_r <-select(df_r, -c(\"Province/State\",\"Lat\",\"Long\"))\n",
    "    colnames(df_c)[1]<- 'Pais'\n",
    "    colnames(df_d)[1]<- 'Pais'\n",
    "    colnames(df_r)[1]<- 'Pais'\n",
    "    df_c <- gather(df_c,c(2:ncol(df_c)),key='Fecha',value='Casos')\n",
    "    df_d <- gather(df_d,c(2:ncol(df_d)),key='Fecha',value='Muertos')\n",
    "    df_r <- gather(df_r,c(2:ncol(df_r)),key='Fecha',value='Recuperados')\n",
    "    \n",
    "    return(cbind(df_c,df_d[3],df_r[3]))\n",
    "}"
   ]
  },
  {
   "cell_type": "markdown",
   "metadata": {},
   "source": [
    "Definimos la función add_nc, que recibe como entrada un dataFrame ordenado y retorna un vector con los ''Nuevos casos por día''"
   ]
  },
  {
   "cell_type": "code",
   "execution_count": 58,
   "metadata": {},
   "outputs": [],
   "source": [
    "add_nc <- function(df){\n",
    "    new_cases <- rep(0,length(df$Casos))\n",
    "    for(i in c(2:length(df$Casos))){\n",
    "        new_cases[i] <- df$Casos[i]-df$Casos[i-1]\n",
    "        }\n",
    "    return(new_cases)\n",
    "    }"
   ]
  },
  {
   "cell_type": "markdown",
   "metadata": {},
   "source": [
    "Definimos la función add_ti que recibe como entrada un dataFrame ordenado de un ciertos país y su polación, esta me selecciona los datos desde el segundo contagiado y agrega la columna con la tasa de incidencia acumulada, la tasa de incidencia por día y agregamos la columna de ''Casos nuevos por dia''."
   ]
  },
  {
   "cell_type": "code",
   "execution_count": 59,
   "metadata": {},
   "outputs": [],
   "source": [
    "add_ti <- function(df,pob){\n",
    "    #Consideramos desde el 2do caso en adelante\n",
    "    df <- df[df$Casos>=2,]\n",
    "    df <- cbind(c(1:nrow(df)),df)\n",
    "    colnames(df)[1] <- 'Dias'\n",
    "    df$\"Casos_Nuevos\" <- add_nc(df)\n",
    "    #Agregamos la tasa de incidencia\n",
    "    df$\"Tasa_Incidencia\" <- df$Casos*(100000/pob)\n",
    "    df$\"Tasa_Incidencia_dia\" <- df$Casos_Nuevos*(100000/pob)\n",
    "    df$\"Tasa_Mortalidad\" <- df$Muertos*(100000/pob)\n",
    "    #Convertimos la fecha a Date, para trabajarla de mejor manera\n",
    "    df$Fecha <- as.Date(df$Fecha, format = \"%m/%d/%y\")\n",
    "    \n",
    "    return(df)\n",
    "}"
   ]
  },
  {
   "cell_type": "markdown",
   "metadata": {},
   "source": [
    "Aplicamos las funciones definidas a nuestros datos, para obtener dataFrames ordenados, con los datos que necesitamos"
   ]
  },
  {
   "cell_type": "code",
   "execution_count": 60,
   "metadata": {},
   "outputs": [],
   "source": [
    "df_chi <- sort_df(df_chi,df_chi_deaths,df_chi_recovered)\n",
    "df_chi <- add_ti(df_chi,pob_chi)\n",
    "\n",
    "df_arg <- sort_df(df_arg,df_arg_deaths,df_arg_recovered)\n",
    "df_arg <- add_ti(df_arg,pob_arg)\n",
    "\n",
    "df_bol <- sort_df(df_bol,df_bol_deaths,df_bol_recovered)\n",
    "df_bol <- add_ti(df_bol,pob_bol)\n",
    "\n",
    "df_per <- sort_df(df_per,df_per_deaths,df_per_recovered)\n",
    "df_per <- add_ti(df_per,pob_per)"
   ]
  },
  {
   "cell_type": "markdown",
   "metadata": {},
   "source": [
    "Unimos los dataFrames de los 4 paises "
   ]
  },
  {
   "cell_type": "code",
   "execution_count": 61,
   "metadata": {},
   "outputs": [
    {
     "data": {
      "text/html": [
       "<table>\n",
       "<caption>A data.frame: 5 × 10</caption>\n",
       "<thead>\n",
       "\t<tr><th></th><th scope=col>Dias</th><th scope=col>Pais</th><th scope=col>Fecha</th><th scope=col>Casos</th><th scope=col>Muertos</th><th scope=col>Recuperados</th><th scope=col>Casos_Nuevos</th><th scope=col>Tasa_Incidencia</th><th scope=col>Tasa_Incidencia_dia</th><th scope=col>Tasa_Mortalidad</th></tr>\n",
       "\t<tr><th></th><th scope=col>&lt;int&gt;</th><th scope=col>&lt;fct&gt;</th><th scope=col>&lt;date&gt;</th><th scope=col>&lt;int&gt;</th><th scope=col>&lt;int&gt;</th><th scope=col>&lt;int&gt;</th><th scope=col>&lt;dbl&gt;</th><th scope=col>&lt;dbl&gt;</th><th scope=col>&lt;dbl&gt;</th><th scope=col>&lt;dbl&gt;</th></tr>\n",
       "</thead>\n",
       "<tbody>\n",
       "\t<tr><th scope=row>44</th><td>1</td><td>Chile    </td><td>2020-03-05</td><td>4</td><td>0</td><td>0</td><td>0</td><td>0.021356113</td><td>0</td><td>0</td></tr>\n",
       "\t<tr><th scope=row>451</th><td>1</td><td>Argentina</td><td>2020-03-06</td><td>2</td><td>0</td><td>0</td><td>0</td><td>0.004495392</td><td>0</td><td>0</td></tr>\n",
       "\t<tr><th scope=row>502</th><td>1</td><td>Bolivia  </td><td>2020-03-11</td><td>2</td><td>0</td><td>0</td><td>0</td><td>0.017621145</td><td>0</td><td>0</td></tr>\n",
       "\t<tr><th scope=row>472</th><td>1</td><td>Peru     </td><td>2020-03-08</td><td>6</td><td>0</td><td>0</td><td>0</td><td>0.018755861</td><td>0</td><td>0</td></tr>\n",
       "\t<tr><th scope=row>45</th><td>2</td><td>Chile    </td><td>2020-03-06</td><td>4</td><td>0</td><td>0</td><td>0</td><td>0.021356113</td><td>0</td><td>0</td></tr>\n",
       "</tbody>\n",
       "</table>\n"
      ],
      "text/latex": [
       "A data.frame: 5 × 10\n",
       "\\begin{tabular}{r|llllllllll}\n",
       "  & Dias & Pais & Fecha & Casos & Muertos & Recuperados & Casos\\_Nuevos & Tasa\\_Incidencia & Tasa\\_Incidencia\\_dia & Tasa\\_Mortalidad\\\\\n",
       "  & <int> & <fct> & <date> & <int> & <int> & <int> & <dbl> & <dbl> & <dbl> & <dbl>\\\\\n",
       "\\hline\n",
       "\t44 & 1 & Chile     & 2020-03-05 & 4 & 0 & 0 & 0 & 0.021356113 & 0 & 0\\\\\n",
       "\t451 & 1 & Argentina & 2020-03-06 & 2 & 0 & 0 & 0 & 0.004495392 & 0 & 0\\\\\n",
       "\t502 & 1 & Bolivia   & 2020-03-11 & 2 & 0 & 0 & 0 & 0.017621145 & 0 & 0\\\\\n",
       "\t472 & 1 & Peru      & 2020-03-08 & 6 & 0 & 0 & 0 & 0.018755861 & 0 & 0\\\\\n",
       "\t45 & 2 & Chile     & 2020-03-06 & 4 & 0 & 0 & 0 & 0.021356113 & 0 & 0\\\\\n",
       "\\end{tabular}\n"
      ],
      "text/markdown": [
       "\n",
       "A data.frame: 5 × 10\n",
       "\n",
       "| <!--/--> | Dias &lt;int&gt; | Pais &lt;fct&gt; | Fecha &lt;date&gt; | Casos &lt;int&gt; | Muertos &lt;int&gt; | Recuperados &lt;int&gt; | Casos_Nuevos &lt;dbl&gt; | Tasa_Incidencia &lt;dbl&gt; | Tasa_Incidencia_dia &lt;dbl&gt; | Tasa_Mortalidad &lt;dbl&gt; |\n",
       "|---|---|---|---|---|---|---|---|---|---|---|\n",
       "| 44 | 1 | Chile     | 2020-03-05 | 4 | 0 | 0 | 0 | 0.021356113 | 0 | 0 |\n",
       "| 451 | 1 | Argentina | 2020-03-06 | 2 | 0 | 0 | 0 | 0.004495392 | 0 | 0 |\n",
       "| 502 | 1 | Bolivia   | 2020-03-11 | 2 | 0 | 0 | 0 | 0.017621145 | 0 | 0 |\n",
       "| 472 | 1 | Peru      | 2020-03-08 | 6 | 0 | 0 | 0 | 0.018755861 | 0 | 0 |\n",
       "| 45 | 2 | Chile     | 2020-03-06 | 4 | 0 | 0 | 0 | 0.021356113 | 0 | 0 |\n",
       "\n"
      ],
      "text/plain": [
       "    Dias Pais      Fecha      Casos Muertos Recuperados Casos_Nuevos\n",
       "44  1    Chile     2020-03-05 4     0       0           0           \n",
       "451 1    Argentina 2020-03-06 2     0       0           0           \n",
       "502 1    Bolivia   2020-03-11 2     0       0           0           \n",
       "472 1    Peru      2020-03-08 6     0       0           0           \n",
       "45  2    Chile     2020-03-06 4     0       0           0           \n",
       "    Tasa_Incidencia Tasa_Incidencia_dia Tasa_Mortalidad\n",
       "44  0.021356113     0                   0              \n",
       "451 0.004495392     0                   0              \n",
       "502 0.017621145     0                   0              \n",
       "472 0.018755861     0                   0              \n",
       "45  0.021356113     0                   0              "
      ]
     },
     "metadata": {},
     "output_type": "display_data"
    }
   ],
   "source": [
    "df_final <- rbind(df_chi,df_arg,df_bol,df_per)\n",
    "df_final <- df_final[order(df_final$Dias),]\n",
    "head(df_final,n=5)"
   ]
  },
  {
   "cell_type": "markdown",
   "metadata": {},
   "source": [
    "Ya que tenemos un dataFrame con los datos de contiago de los 4 paises seleccionados desde el 2do caso, graficamos la evolución de los casos en función del tiempo, desde el día del primer caso de cada país"
   ]
  },
  {
   "cell_type": "code",
   "execution_count": 62,
   "metadata": {},
   "outputs": [
    {
     "data": {
      "image/png": "[encoded data removed]",
      "text/plain": [
       "plot without title"
      ]
     },
     "metadata": {
      "image/png": {
       "height": 420,
       "width": 420
      }
     },
     "output_type": "display_data"
    }
   ],
   "source": [
    "graph1 <- ggplot(df_final) + geom_line(aes(x = Dias, y = Casos, col = Pais), size=1, alpha = 1) + ggtitle(\"Evolución de casos COVID19 por País desde el 2do caso\") + theme_bw()\n",
    "\n",
    "\n",
    "graph1"
   ]
  },
  {
   "cell_type": "code",
   "execution_count": 63,
   "metadata": {},
   "outputs": [],
   "source": [
    "# graph1 <- ggplot(df_final) + geom_line(aes(x = Dias, y = Casos, col = Pais),size=1, alpha = 1) + \n",
    "#                                                                                     ggtitle(\"Evolución de casos COVID19 desde el 2do caso\") + theme_bw()\n",
    "# graph2 <- ggplot(df_final) + geom_line(aes(x= Dias, y = Tasa_Incidencia, col = Pais),size = 1, alpha = 1) + \n",
    "#                                                                                     ggtitle(\"Tasa de Incidencia\") + theme_bw()\n",
    "# ggsave(plot = graph1, width = w*7, height = 8, dpi = 300, filename = \"graph.pdf\")\n",
    "# ggsave(plot = graph2, width = w*7, height = 8, dpi = 300, filename = \"incidencia.pdf\")"
   ]
  },
  {
   "cell_type": "code",
   "execution_count": 64,
   "metadata": {},
   "outputs": [],
   "source": [
    "# grid.arrange(graph1,graph2,nrow=2)"
   ]
  },
  {
   "cell_type": "markdown",
   "metadata": {},
   "source": [
    "## Pregunta 1.3"
   ]
  },
  {
   "cell_type": "markdown",
   "metadata": {},
   "source": [
    "La tasa de incidencia se define como el número de casos nuevos de una enfermedad u otra condición de salud dividido por la población en riesgo de la enfermedad (población expuesta) en un lugar específico y durante un período especifico. \n",
    "\n",
    "$\\textbf{Interpretación epidemiológica:}$ Esta tasa permite calcular la probabilidad de que haya un cambio de estado(i.e. de no tener la enfermedad a enfermarse) es un intervalo determinado. En términos epidemiológicos, esto se denomina ''riesgo''. El riesgo es, la probabilidad de cambio de estado en una población de interés y en un intervalo dado. "
   ]
  },
  {
   "cell_type": "markdown",
   "metadata": {},
   "source": [
    "La tasa de incidencia se calcula como: \n",
    "\n",
    "\\begin{equation*}\n",
    "    TI = \\frac{\\mbox{# Casos confirmados País}}{\\mbox{Población País}}\\cdot 100.000\n",
    "\\end{equation*}"
   ]
  },
  {
   "cell_type": "markdown",
   "metadata": {},
   "source": [
    "Calculamos la Tasa de Incidencia acumulada hasta el último periodo, es decir, lo casos confirmados hasta el último dato de nuestro dataFrame por país"
   ]
  },
  {
   "cell_type": "markdown",
   "metadata": {},
   "source": [
    "Rescatamos el último dato de contagiados por país"
   ]
  },
  {
   "cell_type": "code",
   "execution_count": 65,
   "metadata": {},
   "outputs": [],
   "source": [
    "#Tomamos el último valor de nuestros df\n",
    "acum_chi <- tail(df_chi$Casos, n=1) \n",
    "acum_arg <- tail(df_arg$Casos, n=1) \n",
    "acum_bol <- tail(df_bol$Casos, n=1)\n",
    "acum_per <- tail(df_per$Casos, n=1)"
   ]
  },
  {
   "cell_type": "markdown",
   "metadata": {},
   "source": [
    "Calculamos las tasas de Incidencia"
   ]
  },
  {
   "cell_type": "code",
   "execution_count": 66,
   "metadata": {},
   "outputs": [
    {
     "name": "stdout",
     "output_type": "stream",
     "text": [
      "[1] \"Tasa de incidencia Chile:  65.7020822210358\"\n",
      "[1] \"Tasa de incidencia Argentina:  8.10743987412902\"\n",
      "[1] \"Tasa de incidencia Bolivia:  7.11013215859031\"\n",
      "[1] \"Tasa de incidencia Peru:  67.6711472335105\"\n"
     ]
    }
   ],
   "source": [
    "ti_chi <- (acum_chi/pob_chi)*100000\n",
    "ti_arg <- (acum_arg/pob_arg)*100000\n",
    "ti_bol <- (acum_bol/pob_bol)*100000\n",
    "ti_per <- (acum_per/pob_per)*100000\n",
    "\n",
    "print(paste('Tasa de incidencia Chile: ',ti_chi))\n",
    "print(paste('Tasa de incidencia Argentina: ',ti_arg))\n",
    "print(paste('Tasa de incidencia Bolivia: ',ti_bol))\n",
    "print(paste('Tasa de incidencia Peru: ',ti_per))"
   ]
  },
  {
   "cell_type": "markdown",
   "metadata": {},
   "source": [
    "### Conclusiones"
   ]
  },
  {
   "cell_type": "code",
   "execution_count": null,
   "metadata": {},
   "outputs": [],
   "source": []
  },
  {
   "cell_type": "code",
   "execution_count": null,
   "metadata": {},
   "outputs": [],
   "source": []
  },
  {
   "cell_type": "code",
   "execution_count": null,
   "metadata": {},
   "outputs": [],
   "source": []
  },
  {
   "cell_type": "code",
   "execution_count": null,
   "metadata": {},
   "outputs": [],
   "source": []
  },
  {
   "cell_type": "markdown",
   "metadata": {},
   "source": [
    "## Pregunta 1.4"
   ]
  },
  {
   "cell_type": "markdown",
   "metadata": {},
   "source": [
    "Escogemos un periodo de tiempo de 2 semanas desde que se reportaron 200 casos"
   ]
  },
  {
   "cell_type": "markdown",
   "metadata": {},
   "source": [
    "Creamos la siguiente función, que agrega una columna con la tasa de contagio a un cierto dataFrame"
   ]
  },
  {
   "cell_type": "code",
   "execution_count": 67,
   "metadata": {},
   "outputs": [],
   "source": [
    "add_tc <- function(df,pob){\n",
    "    #Agregamos la tasa de contagio al data frame\n",
    "    df$\"Tasa_Contagio\" <- df$Casos-df$Muertos-df$Recuperados*(100000/pob)\n",
    "    return(df)\n",
    "}"
   ]
  },
  {
   "cell_type": "markdown",
   "metadata": {},
   "source": [
    "Creamos una función, que recibe como parametros, el numero de contagios mínimos, el numero de semanas posterior a este ''n'' de contagios y el data frame. Esta función nos permite ''recortar'' nuestro data frame"
   ]
  },
  {
   "cell_type": "code",
   "execution_count": 68,
   "metadata": {},
   "outputs": [],
   "source": [
    "week <- function(n,w,df){\n",
    "    df <- df[df$Casos>n,]\n",
    "    df <- df[df$Fecha>=df$Fecha[1] & df$Fecha<(df$Fecha+(w*7))[1],]\n",
    "    return(df)\n",
    "}"
   ]
  },
  {
   "cell_type": "markdown",
   "metadata": {},
   "source": [
    "Para este caso consideraremos $w=2$ semanas desde que ocurren $n=200$ contagios"
   ]
  },
  {
   "cell_type": "code",
   "execution_count": 69,
   "metadata": {},
   "outputs": [],
   "source": [
    "n = 200\n",
    "w = 2"
   ]
  },
  {
   "cell_type": "markdown",
   "metadata": {},
   "source": [
    "Aplicamos las funciones para los data frames de los países"
   ]
  },
  {
   "cell_type": "code",
   "execution_count": 70,
   "metadata": {},
   "outputs": [],
   "source": [
    "df_chi2 <- week(n,w,df_chi)\n",
    "df_chi2 <- add_tc(df_chi2,pob_chi)\n",
    "df_chi2$Dias <- c(1:nrow(df_chi2))\n",
    "\n",
    "df_arg2 <- week(n,w,df_arg)\n",
    "df_arg2 <- add_tc(df_arg2,pob_arg)\n",
    "df_arg2$Dias <- c(1:nrow(df_arg2))\n",
    "\n",
    "df_bol2 <- week(n,w,df_bol)\n",
    "df_bol2 <- add_tc(df_bol2,pob_bol)\n",
    "df_bol2$Dias <- c(1:nrow(df_bol2))\n",
    "\n",
    "df_per2 <- week(n,w,df_per)\n",
    "df_per2 <- add_tc(df_per2,pob_per)\n",
    "df_per2$Dias <- c(1:nrow(df_per2))"
   ]
  },
  {
   "cell_type": "code",
   "execution_count": 71,
   "metadata": {},
   "outputs": [
    {
     "name": "stdout",
     "output_type": "stream",
     "text": [
      "[1] \"Tasa de incidencia Chile 11.1265349706353\"\n",
      "[1] \"Tasa de incidencia Argentina 1.95549561699258\"\n",
      "[1] \"Tasa de incidencia Bolivia 2.94273127753304\"\n",
      "[1] \"Tasa de incidencia Perú 2.05689277899344\"\n"
     ]
    }
   ],
   "source": [
    "act_chi <- (df_chi2$Casos[w*7]-df_chi2$Casos[1])-(df_chi2$Muertos[w*7]-df_chi2$Muertos[1])-(df_chi2$Recuperados[w*7]-df_chi2$Recuperados[1])\n",
    "ti_chi <- act_chi*100000/pob_chi\n",
    "\n",
    "act_arg <-(df_arg2$Casos[w*7]-df_arg2$Casos[1])-(df_arg2$Muertos[w*7]-df_arg2$Muertos[1])-(df_arg2$Recuperados[w*7]-df_arg2$Recuperados[1])\n",
    "ti_arg <- act_arg*100000/pob_arg\n",
    "\n",
    "act_bol <- (df_bol2$Casos[w*7]-df_bol2$Casos[1])-(df_bol2$Muertos[w*7]-df_bol2$Muertos[1])-(df_bol2$Recuperados[w*7]-df_bol2$Recuperados[1])\n",
    "ti_bol <- act_bol*100000/pob_bol\n",
    "\n",
    "act_per <- (df_per2$Casos[w*7]-df_per2$Casos[1])-(df_per2$Muertos[w*7]-df_per2$Muertos[1])-(df_per2$Recuperados[w*7]-df_per2$Recuperados[1])\n",
    "ti_per <- act_per*100000/pob_per\n",
    "\n",
    "print(paste('Tasa de incidencia Chile',ti_chi))\n",
    "print(paste('Tasa de incidencia Argentina',ti_arg))\n",
    "print(paste('Tasa de incidencia Bolivia',ti_bol))\n",
    "print(paste('Tasa de incidencia Perú',ti_per))"
   ]
  },
  {
   "cell_type": "markdown",
   "metadata": {},
   "source": [
    "Unimos todos los data frames"
   ]
  },
  {
   "cell_type": "code",
   "execution_count": 72,
   "metadata": {},
   "outputs": [],
   "source": [
    "df_final2 <- rbind(df_chi2,df_arg2,df_bol2,df_per2)\n",
    "df_final2 <- df_final2[order(df_final2$Dias),]"
   ]
  },
  {
   "cell_type": "code",
   "execution_count": 73,
   "metadata": {},
   "outputs": [
    {
     "data": {
      "text/html": [
       "<table>\n",
       "<caption>A data.frame: 5 × 11</caption>\n",
       "<thead>\n",
       "\t<tr><th></th><th scope=col>Dias</th><th scope=col>Pais</th><th scope=col>Fecha</th><th scope=col>Casos</th><th scope=col>Muertos</th><th scope=col>Recuperados</th><th scope=col>Casos_Nuevos</th><th scope=col>Tasa_Incidencia</th><th scope=col>Tasa_Incidencia_dia</th><th scope=col>Tasa_Mortalidad</th><th scope=col>Tasa_Contagio</th></tr>\n",
       "\t<tr><th></th><th scope=col>&lt;int&gt;</th><th scope=col>&lt;fct&gt;</th><th scope=col>&lt;date&gt;</th><th scope=col>&lt;int&gt;</th><th scope=col>&lt;int&gt;</th><th scope=col>&lt;int&gt;</th><th scope=col>&lt;dbl&gt;</th><th scope=col>&lt;dbl&gt;</th><th scope=col>&lt;dbl&gt;</th><th scope=col>&lt;dbl&gt;</th><th scope=col>&lt;dbl&gt;</th></tr>\n",
       "</thead>\n",
       "<tbody>\n",
       "\t<tr><th scope=row>56</th><td>1</td><td>Chile    </td><td>2020-03-17</td><td>201</td><td> 0</td><td>0</td><td> 46</td><td>1.0731447</td><td>0.2455953</td><td>0.000000000</td><td>201.0000</td></tr>\n",
       "\t<tr><th scope=row>611</th><td>1</td><td>Argentina</td><td>2020-03-22</td><td>266</td><td> 4</td><td>3</td><td>108</td><td>0.5978872</td><td>0.2427512</td><td>0.008990784</td><td>261.9933</td></tr>\n",
       "\t<tr><th scope=row>78</th><td>1</td><td>Bolivia  </td><td>2020-04-08</td><td>210</td><td>15</td><td>2</td><td> 16</td><td>1.8502203</td><td>0.1409692</td><td>0.132158590</td><td>194.9824</td></tr>\n",
       "\t<tr><th scope=row>581</th><td>1</td><td>Peru     </td><td>2020-03-19</td><td>234</td><td> 0</td><td>1</td><td> 89</td><td>0.7314786</td><td>0.2782119</td><td>0.000000000</td><td>233.9969</td></tr>\n",
       "\t<tr><th scope=row>57</th><td>2</td><td>Chile    </td><td>2020-03-18</td><td>238</td><td> 0</td><td>0</td><td> 37</td><td>1.2706887</td><td>0.1975440</td><td>0.000000000</td><td>238.0000</td></tr>\n",
       "</tbody>\n",
       "</table>\n"
      ],
      "text/latex": [
       "A data.frame: 5 × 11\n",
       "\\begin{tabular}{r|lllllllllll}\n",
       "  & Dias & Pais & Fecha & Casos & Muertos & Recuperados & Casos\\_Nuevos & Tasa\\_Incidencia & Tasa\\_Incidencia\\_dia & Tasa\\_Mortalidad & Tasa\\_Contagio\\\\\n",
       "  & <int> & <fct> & <date> & <int> & <int> & <int> & <dbl> & <dbl> & <dbl> & <dbl> & <dbl>\\\\\n",
       "\\hline\n",
       "\t56 & 1 & Chile     & 2020-03-17 & 201 &  0 & 0 &  46 & 1.0731447 & 0.2455953 & 0.000000000 & 201.0000\\\\\n",
       "\t611 & 1 & Argentina & 2020-03-22 & 266 &  4 & 3 & 108 & 0.5978872 & 0.2427512 & 0.008990784 & 261.9933\\\\\n",
       "\t78 & 1 & Bolivia   & 2020-04-08 & 210 & 15 & 2 &  16 & 1.8502203 & 0.1409692 & 0.132158590 & 194.9824\\\\\n",
       "\t581 & 1 & Peru      & 2020-03-19 & 234 &  0 & 1 &  89 & 0.7314786 & 0.2782119 & 0.000000000 & 233.9969\\\\\n",
       "\t57 & 2 & Chile     & 2020-03-18 & 238 &  0 & 0 &  37 & 1.2706887 & 0.1975440 & 0.000000000 & 238.0000\\\\\n",
       "\\end{tabular}\n"
      ],
      "text/markdown": [
       "\n",
       "A data.frame: 5 × 11\n",
       "\n",
       "| <!--/--> | Dias &lt;int&gt; | Pais &lt;fct&gt; | Fecha &lt;date&gt; | Casos &lt;int&gt; | Muertos &lt;int&gt; | Recuperados &lt;int&gt; | Casos_Nuevos &lt;dbl&gt; | Tasa_Incidencia &lt;dbl&gt; | Tasa_Incidencia_dia &lt;dbl&gt; | Tasa_Mortalidad &lt;dbl&gt; | Tasa_Contagio &lt;dbl&gt; |\n",
       "|---|---|---|---|---|---|---|---|---|---|---|---|\n",
       "| 56 | 1 | Chile     | 2020-03-17 | 201 |  0 | 0 |  46 | 1.0731447 | 0.2455953 | 0.000000000 | 201.0000 |\n",
       "| 611 | 1 | Argentina | 2020-03-22 | 266 |  4 | 3 | 108 | 0.5978872 | 0.2427512 | 0.008990784 | 261.9933 |\n",
       "| 78 | 1 | Bolivia   | 2020-04-08 | 210 | 15 | 2 |  16 | 1.8502203 | 0.1409692 | 0.132158590 | 194.9824 |\n",
       "| 581 | 1 | Peru      | 2020-03-19 | 234 |  0 | 1 |  89 | 0.7314786 | 0.2782119 | 0.000000000 | 233.9969 |\n",
       "| 57 | 2 | Chile     | 2020-03-18 | 238 |  0 | 0 |  37 | 1.2706887 | 0.1975440 | 0.000000000 | 238.0000 |\n",
       "\n"
      ],
      "text/plain": [
       "    Dias Pais      Fecha      Casos Muertos Recuperados Casos_Nuevos\n",
       "56  1    Chile     2020-03-17 201    0      0            46         \n",
       "611 1    Argentina 2020-03-22 266    4      3           108         \n",
       "78  1    Bolivia   2020-04-08 210   15      2            16         \n",
       "581 1    Peru      2020-03-19 234    0      1            89         \n",
       "57  2    Chile     2020-03-18 238    0      0            37         \n",
       "    Tasa_Incidencia Tasa_Incidencia_dia Tasa_Mortalidad Tasa_Contagio\n",
       "56  1.0731447       0.2455953           0.000000000     201.0000     \n",
       "611 0.5978872       0.2427512           0.008990784     261.9933     \n",
       "78  1.8502203       0.1409692           0.132158590     194.9824     \n",
       "581 0.7314786       0.2782119           0.000000000     233.9969     \n",
       "57  1.2706887       0.1975440           0.000000000     238.0000     "
      ]
     },
     "metadata": {},
     "output_type": "display_data"
    }
   ],
   "source": [
    "head(df_final2,n=5)"
   ]
  },
  {
   "cell_type": "code",
   "execution_count": 74,
   "metadata": {},
   "outputs": [],
   "source": [
    "graph3 <- ggplot(df_final2) + geom_line(aes(x = Dias, y = Tasa_Contagio, col = Pais), size=1, alpha = 1) + \n",
    "                                                                                    ggtitle(\"Tasa de contagio desde que se superan 200 confirmados\") + theme_bw()\n",
    "ggsave(plot = graph3, width = w*7, height = 8, dpi = 300, filename = \"graph3.pdf\")\n"
   ]
  },
  {
   "cell_type": "code",
   "execution_count": 75,
   "metadata": {},
   "outputs": [
    {
     "data": {
      "image/png": "[encoded data removed]",
      "text/plain": [
       "plot without title"
      ]
     },
     "metadata": {
      "image/png": {
       "height": 420,
       "width": 420
      }
     },
     "output_type": "display_data"
    }
   ],
   "source": [
    "graph3"
   ]
  },
  {
   "cell_type": "markdown",
   "metadata": {},
   "source": [
    "## Calcularemos el intervalo de confianza de la tasa de contagio como:\n",
    "\n",
    "\\begin{equation*}\n",
    "    (\\hat{p}-z_{\\alpha/2}\\sqrt{\\frac{\\hat{p}(100.000-\\hat{p})}{n}} , \\hat{p}+z_{\\alpha/2}\\sqrt{\\frac{\\hat{p}(100.000-\\hat{p})}{n}})\n",
    "\\end{equation*}"
   ]
  },
  {
   "cell_type": "markdown",
   "metadata": {},
   "source": [
    "Donde,\n",
    "\n",
    "\\begin{equation*}\n",
    "    \\hat{p} = \\frac{\\# Contagiados - \\# Fallecidos - \\# Recuperados}{Población}\\cdot100.000 = \\mbox{Tasa de Contagio}\n",
    "\\end{equation*}\n",
    "\n",
    "y $n$ es la población de cada país."
   ]
  },
  {
   "cell_type": "markdown",
   "metadata": {},
   "source": [
    "Calculamos el número de contagios, fallecidos y recuperados para cada país en el intervalo de tiempo de dos semanas luego que cada país alcanza los 200 contagios confirmados"
   ]
  },
  {
   "cell_type": "code",
   "execution_count": 76,
   "metadata": {},
   "outputs": [],
   "source": [
    "n_cont_chi <- sum(df_chi2$Casos_Nuevos)\n",
    "n_fall_chi <- tail(df_chi2$Muertos, n=1) - df_chi2$Muertos[1]\n",
    "n_rec_chi <- tail(df_chi2$Recuperados, n=1) - df_chi2$Recuperados[1]\n",
    "\n",
    "n_cont_arg <- sum(df_arg2$Casos_Nuevos)\n",
    "n_fall_arg <- tail(df_arg2$Muertos, n=1) - df_arg2$Muertos[1]\n",
    "n_rec_arg <- tail(df_arg2$Recuperados, n=1) - df_arg2$Recuperados[1]\n",
    "\n",
    "n_cont_bol <- sum(df_bol2$Casos_Nuevos)\n",
    "n_fall_bol <- tail(df_bol2$Muertos, n=1) - df_bol2$Muertos[1]\n",
    "n_rec_bol <- tail(df_bol2$Recuperados, n=1) - df_bol2$Recuperados[1]\n",
    "\n",
    "n_cont_per <- sum(df_per2$Casos_Nuevos)\n",
    "n_fall_per <- tail(df_per2$Muertos, n=1) - df_per2$Muertos[1]\n",
    "n_rec_per <- tail(df_per2$Recuperados, n=1) - df_per2$Recuperados[1]"
   ]
  },
  {
   "cell_type": "markdown",
   "metadata": {},
   "source": [
    "Obtenemos la tasa de contagio por país, que corresponde efectivamente a la proporción de casos activos por cada 100.000 habitantes"
   ]
  },
  {
   "cell_type": "code",
   "execution_count": 77,
   "metadata": {},
   "outputs": [
    {
     "name": "stdout",
     "output_type": "stream",
     "text": [
      "[1] \"Tasa contagio Chile: 11.3721302722904\"\n",
      "[1] \"Tasa contagio Argentina: 2.19824679703304\"\n",
      "[1] \"Tasa contagio Bolivia: 3.08370044052863\"\n",
      "[1] \"Tasa contagio Peru: 2.33510472022507\"\n"
     ]
    }
   ],
   "source": [
    "tc_chi <- (n_cont_chi-n_fall_chi-n_rec_chi)/(pob_chi)*100000\n",
    "tc_arg <- (n_cont_arg-n_fall_arg-n_rec_arg)/(pob_arg)*100000\n",
    "tc_bol <- (n_cont_bol-n_fall_bol-n_rec_bol)/(pob_bol)*100000\n",
    "tc_per <- (n_cont_per-n_fall_per-n_rec_per)/(pob_per)*100000\n",
    "\n",
    "print(paste('Tasa contagio Chile:',tc_chi))\n",
    "print(paste('Tasa contagio Argentina:',tc_arg))\n",
    "print(paste('Tasa contagio Bolivia:',tc_bol))\n",
    "print(paste('Tasa contagio Peru:',tc_per))"
   ]
  },
  {
   "cell_type": "markdown",
   "metadata": {},
   "source": [
    "Utilizaremos un $\\alpha = 0.05$, donde $z_{\\alpha/2}$ = 1.959964"
   ]
  },
  {
   "cell_type": "code",
   "execution_count": 78,
   "metadata": {},
   "outputs": [
    {
     "name": "stdout",
     "output_type": "stream",
     "text": [
      "[1] 1.959964\n"
     ]
    }
   ],
   "source": [
    "z_alpha2 <- qnorm(1- 0.05/2)\n",
    "print(z_alpha2)"
   ]
  },
  {
   "cell_type": "code",
   "execution_count": 79,
   "metadata": {},
   "outputs": [
    {
     "name": "stdout",
     "output_type": "stream",
     "text": [
      "[1] \"Intervalo de Confianza de Tasa de Contagio para Chile: 10.8892100190598 11.8550505255211\"\n",
      "[1] \"Intervalo de Confianza de Tasa de Contagio para Argentina: 2.06047816720189 2.33601542686419\"\n",
      "[1] \"Intervalo de Confianza de Tasa de Contagio para Bolivia: 2.76064314326449 3.40675773779278\"\n",
      "[1] \"Intervalo de Confianza de Tasa de Contagio para Peru: 2.167653205209 2.50255623524114\"\n"
     ]
    }
   ],
   "source": [
    "int_chi <- c(tc_chi-z_alpha2*sqrt((tc_chi*(100000-tc_chi))/pob_chi), tc_chi+z_alpha2*sqrt((tc_chi*(100000-tc_chi))/pob_chi))\n",
    "int_arg <- c(tc_arg-z_alpha2*sqrt((tc_arg*(100000-tc_arg))/pob_arg), tc_arg+z_alpha2*sqrt((tc_arg*(100000-tc_arg))/pob_arg))\n",
    "int_bol <- c(tc_bol-z_alpha2*sqrt((tc_bol*(100000-tc_bol))/pob_bol), tc_bol+z_alpha2*sqrt((tc_bol*(100000-tc_bol))/pob_bol))\n",
    "int_per <- c(tc_per-z_alpha2*sqrt((tc_per*(100000-tc_per))/pob_per), tc_per+z_alpha2*sqrt((tc_per*(100000-tc_per))/pob_per))\n",
    "\n",
    "\n",
    "print(paste('Intervalo de Confianza de Tasa de Contagio para Chile:',int_chi[1],int_chi[2]))\n",
    "print(paste('Intervalo de Confianza de Tasa de Contagio para Argentina:',int_arg[1],int_arg[2]))\n",
    "print(paste('Intervalo de Confianza de Tasa de Contagio para Bolivia:',int_bol[1],int_bol[2]))\n",
    "print(paste('Intervalo de Confianza de Tasa de Contagio para Peru:',int_per[1],int_per[2]))\n"
   ]
  },
  {
   "cell_type": "markdown",
   "metadata": {},
   "source": [
    "# Pregunta 2"
   ]
  },
  {
   "cell_type": "markdown",
   "metadata": {},
   "source": [
    "### Pregunta 2.1"
   ]
  },
  {
   "cell_type": "markdown",
   "metadata": {},
   "source": [
    "Realizaremos dos test de diferencia de medias comparando la tasa de incidencia diaria. Para esto, compararemos Chile - Peru y Argentina- Bolivia, y realizaremos un test de hipótesis al 95% de confianza para ver si existe diferencia estadísticamente significativa entre la tasa de incidencia diara de ambos pares de paises.\n"
   ]
  },
  {
   "cell_type": "code",
   "execution_count": 80,
   "metadata": {},
   "outputs": [
    {
     "data": {
      "image/png": "[encoded data removed]",
      "text/plain": [
       "Plot with title \"Normal Q-Q Plot\""
      ]
     },
     "metadata": {
      "image/png": {
       "height": 420,
       "width": 420
      }
     },
     "output_type": "display_data"
    }
   ],
   "source": [
    "qqnorm(df_chi$Tasa_Incidencia, pch = 1 , frame = FALSE) \n",
    "qqline(df_chi$Tasa_Incidencia, col = \"steelblue\", lwd = 2)\n",
    "\n",
    "ggsave(plot = last_plot(), width = w*7, height = 8, dpi = 300, filename = \"qqplotChile.pdf\")"
   ]
  },
  {
   "cell_type": "code",
   "execution_count": 81,
   "metadata": {},
   "outputs": [
    {
     "data": {
      "image/png": "[encoded data removed]",
      "text/plain": [
       "Plot with title \"Normal Q-Q Plot\""
      ]
     },
     "metadata": {
      "image/png": {
       "height": 420,
       "width": 420
      }
     },
     "output_type": "display_data"
    }
   ],
   "source": [
    "qqnorm(df_per$Tasa_Incidencia, pch = 1 , frame = FALSE)\n",
    "qqline(df_per$Tasa_Incidencia, col = \"steelblue\", lwd = 2)"
   ]
  },
  {
   "cell_type": "code",
   "execution_count": 82,
   "metadata": {},
   "outputs": [
    {
     "data": {
      "image/png": "[encoded data removed]",
      "text/plain": [
       "plot without title"
      ]
     },
     "metadata": {
      "image/png": {
       "height": 420,
       "width": 420
      }
     },
     "output_type": "display_data"
    }
   ],
   "source": [
    "ggplot(data = df_final[df_final$Pais == \"Chile\" | df_final$Pais=='Peru',], aes(x= Pais, y= Tasa_Incidencia, color = Pais)) + \n",
    "  geom_boxplot() +\n",
    "  theme_bw()"
   ]
  },
  {
   "cell_type": "markdown",
   "metadata": {},
   "source": [
    "### Test 1: Chile - Peru.  Realizaremos el siguiente test."
   ]
  },
  {
   "cell_type": "markdown",
   "metadata": {},
   "source": [
    "$$H_{0}: \\bar{X}_{Chi} = \\bar{X}_{Per}\\\\\n",
    "  H_{A}: \\bar{X}_{Chi} \\neq \\bar{X}_{Per}$$"
   ]
  },
  {
   "cell_type": "markdown",
   "metadata": {},
   "source": [
    "Utilizando la funcion t.test:\n"
   ]
  },
  {
   "cell_type": "code",
   "execution_count": 83,
   "metadata": {},
   "outputs": [
    {
     "data": {
      "text/plain": [
       "\n",
       "\tTwo Sample t-test\n",
       "\n",
       "data:  df_final[df_final$Pais == \"Peru\", ]$Tasa_Incidencia and df_final[df_final$Pais == \"Chile\", ]$Tasa_Incidencia\n",
       "t = -1.2584, df = 97, p-value = 0.2113\n",
       "alternative hypothesis: true difference in means is not equal to 0\n",
       "95 percent confidence interval:\n",
       " -13.681139   3.063989\n",
       "sample estimates:\n",
       "mean of x mean of y \n",
       " 15.30426  20.61284 \n"
      ]
     },
     "metadata": {},
     "output_type": "display_data"
    }
   ],
   "source": [
    "t.test(x = df_final[df_final$Pais == \"Peru\",]$Tasa_Incidencia,\n",
    "       y = df_final[df_final$Pais == \"Chile\", ]$Tasa_Incidencia,\n",
    "       alternative = \"two.sided\", mu = 0, var.equal = TRUE, conf.level = 0.95 )"
   ]
  },
  {
   "cell_type": "markdown",
   "metadata": {},
   "source": [
    "Con los valores obtenidos podemos concluir segun los 3 principios:\n",
    "\n",
    "1. Podemos ver que el valor del estadistico en valor absouto es t = 0.4329, como tenemos un n grande (df = 97) podemos contrastar nuestro estadístico contra el valor de una N(0,1). Para un α=0.05, tenemos que:"
   ]
  },
  {
   "cell_type": "code",
   "execution_count": 84,
   "metadata": {},
   "outputs": [],
   "source": [
    "alpha = 0.05"
   ]
  },
  {
   "cell_type": "code",
   "execution_count": 85,
   "metadata": {},
   "outputs": [
    {
     "name": "stdout",
     "output_type": "stream",
     "text": [
      "[1] 1.959964\n"
     ]
    }
   ],
   "source": [
    "t_alpha = qnorm(1-alpha/2)\n",
    "print(t_alpha)"
   ]
  },
  {
   "cell_type": "markdown",
   "metadata": {},
   "source": [
    "Luego, observamos que $t<t_{alpha}$, es decir, 0.4329<1.96. Por lo cual, NO rechazamos la hipótesis nula de que la media de la tasa de incidencia diaria en Chile es igual a la tasa de incidencia diaria en Peru.\n",
    "\n",
    "2. Si analizamos el intervalo de confianza notamos que con un 95% de confianza podemos decir que la diferencia en la media de la tasa de incidencia diaria entre Chile y Peru se mueve en el rango de $[−0.4357832,0.6789181]$. Como este intervalo SI contiene al 0, entonces podemos afirmar que NO se rechaza la hipótesis nula.\n",
    "\n",
    "3. Finalmente si analizamos a traves de P-valor podemos notar que el obtenido $p−value=0.666>α$ entonces a traves de este metodo tampoco podemos rechazar la hipótesis nula."
   ]
  },
  {
   "cell_type": "markdown",
   "metadata": {},
   "source": [
    "### Test 2: Argentina - Bolivia. Realizaremos el siguiente test."
   ]
  },
  {
   "cell_type": "markdown",
   "metadata": {},
   "source": [
    "$$H_{0}: \\bar{X}_{Arg} = \\bar{X}_{Bol}\\\\\n",
    "  H_{A}: \\bar{X}_{Arg} \\neq \\bar{X}_{Bol}$$"
   ]
  },
  {
   "cell_type": "code",
   "execution_count": 86,
   "metadata": {},
   "outputs": [
    {
     "data": {
      "image/png": "[encoded data removed]",
      "text/plain": [
       "plot without title"
      ]
     },
     "metadata": {
      "image/png": {
       "height": 420,
       "width": 420
      }
     },
     "output_type": "display_data"
    }
   ],
   "source": [
    "ggplot(data = df_final[df_final$Pais == \"Argentina\" | df_final$Pais=='Bolivia',], aes(x= Pais, y= Tasa_Incidencia, color = Pais)) + \n",
    "  geom_boxplot() +\n",
    "  theme_bw()"
   ]
  },
  {
   "cell_type": "markdown",
   "metadata": {},
   "source": [
    "Utilizamos la función t.test"
   ]
  },
  {
   "cell_type": "code",
   "execution_count": 87,
   "metadata": {},
   "outputs": [
    {
     "data": {
      "text/plain": [
       "\n",
       "\tTwo Sample t-test\n",
       "\n",
       "data:  df_final[df_final$Pais == \"Argentina\", ]$Tasa_Incidencia and df_final[df_final$Pais == \"Bolivia\", ]$Tasa_Incidencia\n",
       "t = 1.8235, df = 93, p-value = 0.07143\n",
       "alternative hypothesis: true difference in means is not equal to 0\n",
       "95 percent confidence interval:\n",
       " -0.07592812  1.78255710\n",
       "sample estimates:\n",
       "mean of x mean of y \n",
       " 2.678669  1.825355 \n"
      ]
     },
     "metadata": {},
     "output_type": "display_data"
    }
   ],
   "source": [
    "t.test(x = df_final[df_final$Pais == \"Argentina\",]$Tasa_Incidencia,\n",
    "       y = df_final[df_final$Pais == \"Bolivia\", ]$Tasa_Incidencia,\n",
    "       alternative = \"two.sided\", mu = 0, var.equal = TRUE, conf.level = 0.95)"
   ]
  },
  {
   "cell_type": "markdown",
   "metadata": {},
   "source": [
    "Con los valores obtenidos podemos concluir segun los 3 principios:\n",
    "\n",
    "1. Podemos ver que el valor del estadistico en valor absouto es t = 0.123, como tenemos un n grande (df = 93) podemos contrastar nuestro estadístico contra el valor de una N(0,1). Para un α=0.05, tenemos que:"
   ]
  },
  {
   "cell_type": "code",
   "execution_count": 88,
   "metadata": {},
   "outputs": [
    {
     "name": "stdout",
     "output_type": "stream",
     "text": [
      "[1] 1.959964\n"
     ]
    }
   ],
   "source": [
    "t_alpha = qnorm(0.975)\n",
    "print(t_alpha)"
   ]
  },
  {
   "cell_type": "markdown",
   "metadata": {},
   "source": [
    "Luego, observamos que $t<t_{alpha}$, es decir, 0.123<1.96. Por lo cual, NO rechazamos la hipótesis nula de que la media de la tasa de incidencia diaria en Argentina es igual a la tasa de incidencia diaria en Bolivia.\n",
    "\n",
    "2. Si analizamos el intervalo de confianza notamos que con un 95% de confianza podemos decir que la diferencia en la media de la tasa de incidencia diaria entre Chile y Peru se mueve en el rango de $[−0.06735856,0.07625363]$. Como este intervalo SI contiene al 0, entonces podemos afirmar que NO se rechaza la hipótesis nula.\n",
    "\n",
    "3. Finalmente si analizamos a traves de P-valor podemos notar que el obtenido $p−value=0.9024>α$ entonces a traves de este metodo tampoco podemos rechazar la hipótesis nula."
   ]
  },
  {
   "cell_type": "markdown",
   "metadata": {},
   "source": [
    "### Conclusiones"
   ]
  },
  {
   "cell_type": "markdown",
   "metadata": {},
   "source": [
    "Como conclusion de ambos test de hipoteis se puede afirmar que la diferencia entre las medias de las tasas de incidencia diarias entre Chile - Peru y Argentina - Bolivia casi no existen, por lo que se concluye que con un 95% de confianza las medias de las tasas de incidencia diaria entre Chile y Peru son iguales, de la misma forma en que ocurre entre Argentina y Bolivia. Conclusion que se puede visualizar graficamente en la pregunta 1."
   ]
  },
  {
   "cell_type": "markdown",
   "metadata": {},
   "source": [
    "### Pregunta 2.2"
   ]
  },
  {
   "cell_type": "markdown",
   "metadata": {},
   "source": [
    "### Test de diferencia de proporciones"
   ]
  },
  {
   "cell_type": "markdown",
   "metadata": {},
   "source": [
    "Buscamos realizar dos test de diferencia de proporciones para la tasa de mortalidad entre Chile-Peru y Argentina-Bolivia a un nivel de significancia del 95%. Para ello definiremos primero la tasa de mortalidad como el cociente entre fallecidos y poblacion total por cada 100.000 habitantes, la cual se encuentra en su forma acumulada en la ultima columna de nuestro Data frame."
   ]
  },
  {
   "cell_type": "code",
   "execution_count": 89,
   "metadata": {},
   "outputs": [
    {
     "data": {
      "image/png": "[encoded data removed]",
      "text/plain": [
       "Plot with title \"Normal Q-Q Plot\""
      ]
     },
     "metadata": {
      "image/png": {
       "height": 420,
       "width": 420
      }
     },
     "output_type": "display_data"
    }
   ],
   "source": [
    "qqnorm(df_chi$Tasa_Mortalidad, pch = 1 , frame = FALSE)\n",
    "qqline(df_chi$Tasa_Mortalidad, col = \"steelblue\", lwd = 2)"
   ]
  },
  {
   "cell_type": "code",
   "execution_count": 90,
   "metadata": {},
   "outputs": [
    {
     "data": {
      "text/html": [
       "<table>\n",
       "<caption>A tibble: 4 × 3</caption>\n",
       "<thead>\n",
       "\t<tr><th scope=col>Pais</th><th scope=col>mean_mortalidad</th><th scope=col>std_mortalidad</th></tr>\n",
       "\t<tr><th scope=col>&lt;fct&gt;</th><th scope=col>&lt;dbl&gt;</th><th scope=col>&lt;dbl&gt;</th></tr>\n",
       "</thead>\n",
       "<tbody>\n",
       "\t<tr><td>Argentina</td><td>0.1091032</td><td>0.1219487</td></tr>\n",
       "\t<tr><td>Bolivia  </td><td>0.1121880</td><td>0.1248606</td></tr>\n",
       "\t<tr><td>Chile    </td><td>0.2204705</td><td>0.2906321</td></tr>\n",
       "\t<tr><td>Peru     </td><td>0.3998645</td><td>0.5475851</td></tr>\n",
       "</tbody>\n",
       "</table>\n"
      ],
      "text/latex": [
       "A tibble: 4 × 3\n",
       "\\begin{tabular}{lll}\n",
       " Pais & mean\\_mortalidad & std\\_mortalidad\\\\\n",
       " <fct> & <dbl> & <dbl>\\\\\n",
       "\\hline\n",
       "\t Argentina & 0.1091032 & 0.1219487\\\\\n",
       "\t Bolivia   & 0.1121880 & 0.1248606\\\\\n",
       "\t Chile     & 0.2204705 & 0.2906321\\\\\n",
       "\t Peru      & 0.3998645 & 0.5475851\\\\\n",
       "\\end{tabular}\n"
      ],
      "text/markdown": [
       "\n",
       "A tibble: 4 × 3\n",
       "\n",
       "| Pais &lt;fct&gt; | mean_mortalidad &lt;dbl&gt; | std_mortalidad &lt;dbl&gt; |\n",
       "|---|---|---|\n",
       "| Argentina | 0.1091032 | 0.1219487 |\n",
       "| Bolivia   | 0.1121880 | 0.1248606 |\n",
       "| Chile     | 0.2204705 | 0.2906321 |\n",
       "| Peru      | 0.3998645 | 0.5475851 |\n",
       "\n"
      ],
      "text/plain": [
       "  Pais      mean_mortalidad std_mortalidad\n",
       "1 Argentina 0.1091032       0.1219487     \n",
       "2 Bolivia   0.1121880       0.1248606     \n",
       "3 Chile     0.2204705       0.2906321     \n",
       "4 Peru      0.3998645       0.5475851     "
      ]
     },
     "metadata": {},
     "output_type": "display_data"
    }
   ],
   "source": [
    "df_final %>% \n",
    "  group_by(Pais) %>% \n",
    "  summarize(mean_mortalidad= mean(Tasa_Mortalidad),\n",
    "            std_mortalidad = sd(Tasa_Mortalidad))"
   ]
  },
  {
   "cell_type": "markdown",
   "metadata": {},
   "source": [
    "### Test 1: Chile - Perú"
   ]
  },
  {
   "cell_type": "markdown",
   "metadata": {},
   "source": [
    "Vemos que la media de la Tasa de Mortalidad para Chile es de $0.2204705(22\\%)$ con una desviación estándar de $0.29$ y en el caso de Peru, su media de Tasa de Mortalidad es de $0.3998645(39,9\\%)$ con una desviación estándar de $0.54$. Seleccionemos los datos solo de estos dos Paises para realizar el test."
   ]
  },
  {
   "cell_type": "code",
   "execution_count": 91,
   "metadata": {},
   "outputs": [
    {
     "name": "stdout",
     "output_type": "stream",
     "text": [
      "[1] \"n Chile:  51\"\n",
      "[1] \"n Peru:  48\"\n"
     ]
    }
   ],
   "source": [
    "m_chi <-  df_chi$Tasa_Mortalidad\n",
    "m_per <-  df_per$Tasa_Mortalidad\n",
    "\n",
    "n_chi <- length(m_chi)\n",
    "n_per <- length(m_per)\n",
    "\n",
    "print(paste(\"n Chile: \", n_chi))\n",
    "print(paste(\"n Peru: \", n_per))"
   ]
  },
  {
   "cell_type": "markdown",
   "metadata": {},
   "source": [
    "El test que realizaremos es el siguiente:\n"
   ]
  },
  {
   "cell_type": "markdown",
   "metadata": {},
   "source": [
    "$$\n",
    "\\left\\{\n",
    "\\begin{array}{ll}\n",
    "H_{0}: &  \\overline{p}_{chi}=\\overline{p}_{per}\\\\\n",
    "H_{A}: & \\overline{p}_{chi}\\neq\\overline{p}_{per}\n",
    "\\end{array}\n",
    "\\right.\n",
    "$$"
   ]
  },
  {
   "cell_type": "markdown",
   "metadata": {},
   "source": [
    "El estadístico que necesitamos construir para el test es:\n",
    "$$\n",
    "Z = \\frac{\\hat{p}_{chi} - \\hat{p}_{per}}{\\sqrt{Var(\\hat{p}_{chi} - \\hat{p}_{per})}}\n",
    "$$"
   ]
  },
  {
   "cell_type": "markdown",
   "metadata": {},
   "source": [
    "Y bajo la hipótesis nula, la varianza de la diferencia de proporciones es:\n",
    "$$\n",
    " Var(\\hat{p}_{chi} - \\hat{p}_{per})= p(1-p)(\\frac{1}{n_{chi}}+\\frac{1}{n_{per}})\n",
    "$$"
   ]
  },
  {
   "cell_type": "markdown",
   "metadata": {},
   "source": [
    "Este resultado lo obtenemos porque Bajo $H0: \\hat{p}_{chi}=\\hat{p}_{per}=\\hat{p}$ donde $\\hat{p}$ lo estimamos como:\n",
    "\n",
    "$$\n",
    "\\hat{p} = \\frac{X_{chi} + X_{per}}{n_{chi} + n_{per}}\n",
    "$$"
   ]
  },
  {
   "cell_type": "markdown",
   "metadata": {},
   "source": [
    "Calculemos entonces $\\hat{p}$ con los datos que poseemos:"
   ]
  },
  {
   "cell_type": "code",
   "execution_count": 92,
   "metadata": {},
   "outputs": [
    {
     "name": "stdout",
     "output_type": "stream",
     "text": [
      "[1] \"p_hat:  0.30744940970991\"\n"
     ]
    }
   ],
   "source": [
    "x_chi <- sum(m_chi[m_chi>0])\n",
    "x_per <- sum(m_per[m_per>0])\n",
    "\n",
    "p_hat <- (x_chi + x_per)/(n_chi + n_per)\n",
    "print(paste(\"p_hat: \", p_hat))"
   ]
  },
  {
   "cell_type": "markdown",
   "metadata": {},
   "source": [
    "Luego, la desviación estándar para el estadístico es:"
   ]
  },
  {
   "cell_type": "code",
   "execution_count": 93,
   "metadata": {},
   "outputs": [
    {
     "name": "stdout",
     "output_type": "stream",
     "text": [
      "[1] \"SE de p_hat:  0.0927949782325403\"\n"
     ]
    }
   ],
   "source": [
    "SE_p <- sqrt(p_hat*(1-p_hat)*((1/n_chi) + (1/n_per)))\n",
    "print(paste(\"SE de p_hat: \", SE_p))"
   ]
  },
  {
   "cell_type": "markdown",
   "metadata": {},
   "source": [
    "Entonces, el valor de nuestro estadístico es de:"
   ]
  },
  {
   "cell_type": "code",
   "execution_count": 94,
   "metadata": {},
   "outputs": [
    {
     "name": "stdout",
     "output_type": "stream",
     "text": [
      "[1] \"Z :  1.93323045932231\"\n"
     ]
    }
   ],
   "source": [
    "Z <- (mean(m_per)-mean(m_chi))/SE_p\n",
    "print(paste(\"Z : \", Z))"
   ]
  },
  {
   "cell_type": "markdown",
   "metadata": {},
   "source": [
    "Como tenemos un n grande (51 y 48) podemos contrastar nuestro estadístico contra el valor de una N(0,1). Para un α=0.05, tenemos que:"
   ]
  },
  {
   "cell_type": "code",
   "execution_count": 95,
   "metadata": {},
   "outputs": [
    {
     "name": "stdout",
     "output_type": "stream",
     "text": [
      "[1] \"Z_alpha : 1.95996398454005\"\n"
     ]
    }
   ],
   "source": [
    "z_alpha = qnorm(0.975)\n",
    "print(paste(\"Z_alpha :\", z_alpha))"
   ]
  },
  {
   "cell_type": "markdown",
   "metadata": {},
   "source": [
    "Observamos que $Z≯Z_{alpha}$ por lo cual no podemos rechazar la hipotesis nula de que no existen diferencias entre la proporcion de muertes acumuladas entre Chile y Peru."
   ]
  },
  {
   "cell_type": "markdown",
   "metadata": {},
   "source": [
    "### Test 2: Argentina - Bolivia"
   ]
  },
  {
   "cell_type": "markdown",
   "metadata": {},
   "source": [
    "Vemos que la media de la Tasa de Mortalidad para Argentina es de $0.1091032(10,9\\%)$ con una desviación estándar de $0.12$ y en el caso de Bolivia, su media de Tasa de Mortalidad es de $0.1121880(11,2\\%)$ con una desviación estándar de $0.12$., Seleccionemos los datos solo de estos dos Paises para realizar el test."
   ]
  },
  {
   "cell_type": "code",
   "execution_count": 96,
   "metadata": {},
   "outputs": [
    {
     "name": "stdout",
     "output_type": "stream",
     "text": [
      "[1] \"n Argentina:  50\"\n",
      "[1] \"n Bolivia:  45\"\n"
     ]
    }
   ],
   "source": [
    "m_arg <-  df_arg$Tasa_Mortalidad\n",
    "m_bol <-  df_bol$Tasa_Mortalidad\n",
    "\n",
    "n_arg <- length(m_arg)\n",
    "n_bol <- length(m_bol)\n",
    "\n",
    "print(paste(\"n Argentina: \", n_arg))\n",
    "print(paste(\"n Bolivia: \", n_bol))"
   ]
  },
  {
   "cell_type": "markdown",
   "metadata": {},
   "source": [
    "El test que realizaremos es el siguiente:\n",
    "\n",
    "$$\n",
    "\\left\\{\n",
    "\\begin{array}{ll}\n",
    "H_{0}: &  \\overline{p}_{arg}=\\overline{p}_{bol}\\\\\n",
    "H_{A}: & \\overline{p}_{arg}\\neq\\overline{p}_{bol}\n",
    "\\end{array}\n",
    "\\right.\n",
    "$$"
   ]
  },
  {
   "cell_type": "markdown",
   "metadata": {},
   "source": [
    "El estadístico que necesitamos construir para el test es:\n",
    "$$\n",
    "Z = \\frac{\\hat{p}_{arg} - \\hat{p}_{bol}}{\\sqrt{Var(\\hat{p}_{arg} - \\hat{p}_{bol})}}\n",
    "$$"
   ]
  },
  {
   "cell_type": "markdown",
   "metadata": {},
   "source": [
    "Y bajo la hipótesis nula, la varianza de la diferencia de proporciones es:\n",
    "$$\n",
    " Var(\\hat{p}_{arg} - \\hat{p}_{bol})= p(1-p)(\\frac{1}{n_{arg}}+\\frac{1}{n_{bol}})\n",
    "$$"
   ]
  },
  {
   "cell_type": "markdown",
   "metadata": {},
   "source": [
    "Este resultado lo obtenemos porque Bajo $H0: \\hat{p}_{arg}=\\hat{p}_{bol}=\\hat{p}$ donde $\\hat{p}$ lo estimamos como:\n",
    "\n",
    "$$\n",
    "\\hat{p} = \\frac{X_{arg} + X_{bol}}{n_{arg} + n_{bol}}\n",
    "$$"
   ]
  },
  {
   "cell_type": "markdown",
   "metadata": {},
   "source": [
    "Calculemos entonces $\\hat{p}$ con los datos que poseemos:"
   ]
  },
  {
   "cell_type": "code",
   "execution_count": 97,
   "metadata": {},
   "outputs": [
    {
     "name": "stdout",
     "output_type": "stream",
     "text": [
      "[1] \"p_hat:  0.110564385393217\"\n"
     ]
    }
   ],
   "source": [
    "x_arg <- sum(m_arg[m_arg>0])\n",
    "x_bol <- sum(m_bol[m_bol>0])\n",
    "\n",
    "p_hat2 <- (x_arg + x_bol)/(n_arg + n_bol)\n",
    "print(paste(\"p_hat: \", p_hat2))"
   ]
  },
  {
   "cell_type": "markdown",
   "metadata": {},
   "source": [
    "Luego, la desviación estándar para el estadístico es:"
   ]
  },
  {
   "cell_type": "code",
   "execution_count": 98,
   "metadata": {},
   "outputs": [
    {
     "name": "stdout",
     "output_type": "stream",
     "text": [
      "[1] \"SE de p_hat:  0.0644370173018395\"\n"
     ]
    }
   ],
   "source": [
    "SE_p2 <- sqrt(p_hat2*(1-p_hat2)*((1/n_arg) + (1/n_bol)))\n",
    "print(paste(\"SE de p_hat: \", SE_p2))"
   ]
  },
  {
   "cell_type": "markdown",
   "metadata": {},
   "source": [
    "Entonces, el valor de nuestro estadístico es de:"
   ]
  },
  {
   "cell_type": "code",
   "execution_count": 99,
   "metadata": {},
   "outputs": [
    {
     "name": "stdout",
     "output_type": "stream",
     "text": [
      "[1] \"Z :  0.0478729426290323\"\n"
     ]
    }
   ],
   "source": [
    "Z2 <- (mean(m_bol)-mean(m_arg))/SE_p2\n",
    "print(paste(\"Z : \", Z2))"
   ]
  },
  {
   "cell_type": "markdown",
   "metadata": {},
   "source": [
    "Como tenemos un n grande (50 y 45) podemos contrastar nuestro estadístico contra el valor de una N(0,1). Para un α=0.05, tenemos que:"
   ]
  },
  {
   "cell_type": "code",
   "execution_count": 100,
   "metadata": {},
   "outputs": [
    {
     "name": "stdout",
     "output_type": "stream",
     "text": [
      "[1] \"Z_alpha : 1.95996398454005\"\n"
     ]
    }
   ],
   "source": [
    "z_alpha = qnorm(0.975)\n",
    "print(paste(\"Z_alpha :\", z_alpha))"
   ]
  },
  {
   "cell_type": "markdown",
   "metadata": {},
   "source": [
    "Observamos que $Z≯Z_{alpha}$ por lo cual no podemos rechazar la hipotesis nula de que no existen diferencias entre la proporcion de muertes acumuladas entre Argentina y Bolivia."
   ]
  },
  {
   "cell_type": "code",
   "execution_count": null,
   "metadata": {},
   "outputs": [],
   "source": []
  },
  {
   "cell_type": "code",
   "execution_count": null,
   "metadata": {},
   "outputs": [],
   "source": []
  },
  {
   "cell_type": "code",
   "execution_count": null,
   "metadata": {},
   "outputs": [],
   "source": []
  },
  {
   "cell_type": "markdown",
   "metadata": {},
   "source": [
    "### Test de ANOVA para la tasa de contagio"
   ]
  },
  {
   "cell_type": "markdown",
   "metadata": {},
   "source": [
    "Realizaremos un test ANOVA de una via para comparar la media de la Tasa de Incidencia de los 4 paises escogidos.\n",
    "\n",
    "Para comenzar visualizemos los datos con un gráfico de boxplot ajustandolos a la misma cantidad de muestras por pais (45 muestras)\n"
   ]
  },
  {
   "cell_type": "code",
   "execution_count": 101,
   "metadata": {},
   "outputs": [
    {
     "data": {
      "image/png": "[encoded data removed]",
      "text/plain": [
       "plot without title"
      ]
     },
     "metadata": {
      "image/png": {
       "height": 420,
       "width": 420
      }
     },
     "output_type": "display_data"
    }
   ],
   "source": [
    "df_anova <- df_final[df_final$Dias < 46 , ]\n",
    "ggplot(data = df_anova, aes(x= Pais, y= Tasa_Incidencia, color = Pais)) + \n",
    "  geom_boxplot() +\n",
    "  theme_bw()"
   ]
  },
  {
   "cell_type": "markdown",
   "metadata": {},
   "source": [
    "Compararemos las medias de las Tasas de Incidencia acumuladas en estos 4 Paises. Por lo cual en este caso $I=4$. Y para cada categoría tenemos 45 observaciones. Entonces $J=45$. Recordemos que el modelo de ANOVA es el siguiente:\n",
    "$$\n",
    "Y_{ij}=μ+α_{i}+ϵ_{ij}\n",
    "$$"
   ]
  },
  {
   "cell_type": "markdown",
   "metadata": {},
   "source": [
    "Donde $Y_{ij}$ es la observación de la persona $j$ en el grupo $i$, $μ$ es la media poblacional de donde provienen todas las observaciones, $α_{i}$ es el efecto que existe por pertenecer al grupo $i$ y en $ϵ_{ij}$ dejamos todo aquello que no podemos observar, toda la variabilidad entre las observaciones que no es explicada por los factores de nuestro modelo (es un error aleatorio)."
   ]
  },
  {
   "cell_type": "code",
   "execution_count": 102,
   "metadata": {},
   "outputs": [
    {
     "data": {
      "text/plain": [
       "               Df Sum Sq Mean Sq F value   Pr(>F)    \n",
       "df_anova$Pais   3   6458  2152.7    15.2 7.76e-09 ***\n",
       "Residuals     176  24934   141.7                     \n",
       "---\n",
       "Signif. codes:  0 '***' 0.001 '**' 0.01 '*' 0.05 '.' 0.1 ' ' 1"
      ]
     },
     "metadata": {},
     "output_type": "display_data"
    }
   ],
   "source": [
    "anova_df <- aov(df_anova$Tasa_Incidencia~df_anova$Pais)\n",
    "summary(anova_df)"
   ]
  },
  {
   "cell_type": "markdown",
   "metadata": {},
   "source": [
    "De lo anterior podemos extraer lo siguiente:\n",
    "\n",
    "$>$El valor de SSB es 6458\n",
    "\n",
    "$>$El estimador insesgado de la varianza intergrupo es 2152.7\n",
    "\n",
    "$>$El valor de SSW es 24934\n",
    "\n",
    "$>$El estimador insesgado de la varianza intragrupo es 141.7\n",
    "\n",
    "Con estos valores, se construye el estadístico del test, el cual es:\n",
    "$$\n",
    "F=\\frac{SSB/(I - 1)}{SSW/I(J-1)}=15.2\n",
    "$$"
   ]
  },
  {
   "cell_type": "markdown",
   "metadata": {},
   "source": [
    "Ademas, se nos entrega el p-valor del test de hipotesis, el cual es $7.76e-09$ valor que se aproxima a cero, por lo tanto a un nivel de significancia del $5\\%$ se $rechaza$ la hipotesis nula del ANOVA, esto quiere decir que AL MENOS UNA DE LAS MEDIAS es distinta de las otras significativamente y por lo observado en el grafico de boxplot se puede deducir que al menos es la de Chile y potencialmente la de Peru tambien.\n",
    "\n",
    "Para comprobar lo anterior, considerando ademas que la realizacion del test de diferencia de medias entre Argentina y Bolivia no fue rechazado ni tampoco el test entre Chile y Peru, realizaremos un test de diferencia de medias entre Bolivia y Chile y otro entre Peru y Argentina."
   ]
  },
  {
   "cell_type": "code",
   "execution_count": null,
   "metadata": {},
   "outputs": [],
   "source": []
  },
  {
   "cell_type": "code",
   "execution_count": null,
   "metadata": {},
   "outputs": [],
   "source": []
  },
  {
   "cell_type": "code",
   "execution_count": null,
   "metadata": {},
   "outputs": [],
   "source": []
  }
 ],
 "metadata": {
  "kernelspec": {
   "display_name": "R",
   "language": "R",
   "name": "ir"
  },
  "language_info": {
   "codemirror_mode": "r",
   "file_extension": ".r",
   "mimetype": "text/x-r-source",
   "name": "R",
   "pygments_lexer": "r",
   "version": "3.6.3"
  }
 },
 "nbformat": 4,
 "nbformat_minor": 4
}
